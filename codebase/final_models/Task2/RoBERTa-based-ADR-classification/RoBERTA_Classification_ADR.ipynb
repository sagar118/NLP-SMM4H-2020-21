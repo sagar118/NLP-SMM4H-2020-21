{
  "nbformat": 4,
  "nbformat_minor": 0,
  "metadata": {
    "colab": {
      "name": "RoBERTA Classification ADR.ipynb",
      "provenance": [],
      "collapsed_sections": [
        "zQ-0D858Y0R1",
        "vTNLaw0WY7d6",
        "Sc9Mp09fZMA5"
      ]
    },
    "kernelspec": {
      "name": "python3",
      "display_name": "Python 3"
    },
    "language_info": {
      "name": "python"
    },
    "accelerator": "GPU",
    "widgets": {
      "application/vnd.jupyter.widget-state+json": {
        "745fdc8a62064925b98adcf4978850ea": {
          "model_module": "@jupyter-widgets/controls",
          "model_name": "HBoxModel",
          "model_module_version": "1.5.0",
          "state": {
            "_dom_classes": [],
            "_model_module": "@jupyter-widgets/controls",
            "_model_module_version": "1.5.0",
            "_model_name": "HBoxModel",
            "_view_count": null,
            "_view_module": "@jupyter-widgets/controls",
            "_view_module_version": "1.5.0",
            "_view_name": "HBoxView",
            "box_style": "",
            "children": [
              "IPY_MODEL_02490947f3904694a04c8fdb7113a044",
              "IPY_MODEL_9cc630fef4664e85b43801519567caf6",
              "IPY_MODEL_5f2644f11a11479d9f731b280c5f7c9e"
            ],
            "layout": "IPY_MODEL_319a03236f5d407b824b603bb4b453ac"
          }
        },
        "02490947f3904694a04c8fdb7113a044": {
          "model_module": "@jupyter-widgets/controls",
          "model_name": "HTMLModel",
          "model_module_version": "1.5.0",
          "state": {
            "_dom_classes": [],
            "_model_module": "@jupyter-widgets/controls",
            "_model_module_version": "1.5.0",
            "_model_name": "HTMLModel",
            "_view_count": null,
            "_view_module": "@jupyter-widgets/controls",
            "_view_module_version": "1.5.0",
            "_view_name": "HTMLView",
            "description": "",
            "description_tooltip": null,
            "layout": "IPY_MODEL_367e4cd5e8c1476ea04e51656c2c6672",
            "placeholder": "​",
            "style": "IPY_MODEL_bfcb6d23473a4b50b2a3540310895b92",
            "value": "Downloading: 100%"
          }
        },
        "9cc630fef4664e85b43801519567caf6": {
          "model_module": "@jupyter-widgets/controls",
          "model_name": "FloatProgressModel",
          "model_module_version": "1.5.0",
          "state": {
            "_dom_classes": [],
            "_model_module": "@jupyter-widgets/controls",
            "_model_module_version": "1.5.0",
            "_model_name": "FloatProgressModel",
            "_view_count": null,
            "_view_module": "@jupyter-widgets/controls",
            "_view_module_version": "1.5.0",
            "_view_name": "ProgressView",
            "bar_style": "success",
            "description": "",
            "description_tooltip": null,
            "layout": "IPY_MODEL_1c6baba2d9864defba5b579d58ff4bb2",
            "max": 898823,
            "min": 0,
            "orientation": "horizontal",
            "style": "IPY_MODEL_02c1e5a35d6f431dbc9b40dd36b30713",
            "value": 898823
          }
        },
        "5f2644f11a11479d9f731b280c5f7c9e": {
          "model_module": "@jupyter-widgets/controls",
          "model_name": "HTMLModel",
          "model_module_version": "1.5.0",
          "state": {
            "_dom_classes": [],
            "_model_module": "@jupyter-widgets/controls",
            "_model_module_version": "1.5.0",
            "_model_name": "HTMLModel",
            "_view_count": null,
            "_view_module": "@jupyter-widgets/controls",
            "_view_module_version": "1.5.0",
            "_view_name": "HTMLView",
            "description": "",
            "description_tooltip": null,
            "layout": "IPY_MODEL_43538b46c5cf401cb37ed01a0e4a1ba1",
            "placeholder": "​",
            "style": "IPY_MODEL_e2174e4b53814a409cc2ab5d9b33904b",
            "value": " 878k/878k [00:00&lt;00:00, 1.90MB/s]"
          }
        },
        "319a03236f5d407b824b603bb4b453ac": {
          "model_module": "@jupyter-widgets/base",
          "model_name": "LayoutModel",
          "model_module_version": "1.2.0",
          "state": {
            "_model_module": "@jupyter-widgets/base",
            "_model_module_version": "1.2.0",
            "_model_name": "LayoutModel",
            "_view_count": null,
            "_view_module": "@jupyter-widgets/base",
            "_view_module_version": "1.2.0",
            "_view_name": "LayoutView",
            "align_content": null,
            "align_items": null,
            "align_self": null,
            "border": null,
            "bottom": null,
            "display": null,
            "flex": null,
            "flex_flow": null,
            "grid_area": null,
            "grid_auto_columns": null,
            "grid_auto_flow": null,
            "grid_auto_rows": null,
            "grid_column": null,
            "grid_gap": null,
            "grid_row": null,
            "grid_template_areas": null,
            "grid_template_columns": null,
            "grid_template_rows": null,
            "height": null,
            "justify_content": null,
            "justify_items": null,
            "left": null,
            "margin": null,
            "max_height": null,
            "max_width": null,
            "min_height": null,
            "min_width": null,
            "object_fit": null,
            "object_position": null,
            "order": null,
            "overflow": null,
            "overflow_x": null,
            "overflow_y": null,
            "padding": null,
            "right": null,
            "top": null,
            "visibility": null,
            "width": null
          }
        },
        "367e4cd5e8c1476ea04e51656c2c6672": {
          "model_module": "@jupyter-widgets/base",
          "model_name": "LayoutModel",
          "model_module_version": "1.2.0",
          "state": {
            "_model_module": "@jupyter-widgets/base",
            "_model_module_version": "1.2.0",
            "_model_name": "LayoutModel",
            "_view_count": null,
            "_view_module": "@jupyter-widgets/base",
            "_view_module_version": "1.2.0",
            "_view_name": "LayoutView",
            "align_content": null,
            "align_items": null,
            "align_self": null,
            "border": null,
            "bottom": null,
            "display": null,
            "flex": null,
            "flex_flow": null,
            "grid_area": null,
            "grid_auto_columns": null,
            "grid_auto_flow": null,
            "grid_auto_rows": null,
            "grid_column": null,
            "grid_gap": null,
            "grid_row": null,
            "grid_template_areas": null,
            "grid_template_columns": null,
            "grid_template_rows": null,
            "height": null,
            "justify_content": null,
            "justify_items": null,
            "left": null,
            "margin": null,
            "max_height": null,
            "max_width": null,
            "min_height": null,
            "min_width": null,
            "object_fit": null,
            "object_position": null,
            "order": null,
            "overflow": null,
            "overflow_x": null,
            "overflow_y": null,
            "padding": null,
            "right": null,
            "top": null,
            "visibility": null,
            "width": null
          }
        },
        "bfcb6d23473a4b50b2a3540310895b92": {
          "model_module": "@jupyter-widgets/controls",
          "model_name": "DescriptionStyleModel",
          "model_module_version": "1.5.0",
          "state": {
            "_model_module": "@jupyter-widgets/controls",
            "_model_module_version": "1.5.0",
            "_model_name": "DescriptionStyleModel",
            "_view_count": null,
            "_view_module": "@jupyter-widgets/base",
            "_view_module_version": "1.2.0",
            "_view_name": "StyleView",
            "description_width": ""
          }
        },
        "1c6baba2d9864defba5b579d58ff4bb2": {
          "model_module": "@jupyter-widgets/base",
          "model_name": "LayoutModel",
          "model_module_version": "1.2.0",
          "state": {
            "_model_module": "@jupyter-widgets/base",
            "_model_module_version": "1.2.0",
            "_model_name": "LayoutModel",
            "_view_count": null,
            "_view_module": "@jupyter-widgets/base",
            "_view_module_version": "1.2.0",
            "_view_name": "LayoutView",
            "align_content": null,
            "align_items": null,
            "align_self": null,
            "border": null,
            "bottom": null,
            "display": null,
            "flex": null,
            "flex_flow": null,
            "grid_area": null,
            "grid_auto_columns": null,
            "grid_auto_flow": null,
            "grid_auto_rows": null,
            "grid_column": null,
            "grid_gap": null,
            "grid_row": null,
            "grid_template_areas": null,
            "grid_template_columns": null,
            "grid_template_rows": null,
            "height": null,
            "justify_content": null,
            "justify_items": null,
            "left": null,
            "margin": null,
            "max_height": null,
            "max_width": null,
            "min_height": null,
            "min_width": null,
            "object_fit": null,
            "object_position": null,
            "order": null,
            "overflow": null,
            "overflow_x": null,
            "overflow_y": null,
            "padding": null,
            "right": null,
            "top": null,
            "visibility": null,
            "width": null
          }
        },
        "02c1e5a35d6f431dbc9b40dd36b30713": {
          "model_module": "@jupyter-widgets/controls",
          "model_name": "ProgressStyleModel",
          "model_module_version": "1.5.0",
          "state": {
            "_model_module": "@jupyter-widgets/controls",
            "_model_module_version": "1.5.0",
            "_model_name": "ProgressStyleModel",
            "_view_count": null,
            "_view_module": "@jupyter-widgets/base",
            "_view_module_version": "1.2.0",
            "_view_name": "StyleView",
            "bar_color": null,
            "description_width": ""
          }
        },
        "43538b46c5cf401cb37ed01a0e4a1ba1": {
          "model_module": "@jupyter-widgets/base",
          "model_name": "LayoutModel",
          "model_module_version": "1.2.0",
          "state": {
            "_model_module": "@jupyter-widgets/base",
            "_model_module_version": "1.2.0",
            "_model_name": "LayoutModel",
            "_view_count": null,
            "_view_module": "@jupyter-widgets/base",
            "_view_module_version": "1.2.0",
            "_view_name": "LayoutView",
            "align_content": null,
            "align_items": null,
            "align_self": null,
            "border": null,
            "bottom": null,
            "display": null,
            "flex": null,
            "flex_flow": null,
            "grid_area": null,
            "grid_auto_columns": null,
            "grid_auto_flow": null,
            "grid_auto_rows": null,
            "grid_column": null,
            "grid_gap": null,
            "grid_row": null,
            "grid_template_areas": null,
            "grid_template_columns": null,
            "grid_template_rows": null,
            "height": null,
            "justify_content": null,
            "justify_items": null,
            "left": null,
            "margin": null,
            "max_height": null,
            "max_width": null,
            "min_height": null,
            "min_width": null,
            "object_fit": null,
            "object_position": null,
            "order": null,
            "overflow": null,
            "overflow_x": null,
            "overflow_y": null,
            "padding": null,
            "right": null,
            "top": null,
            "visibility": null,
            "width": null
          }
        },
        "e2174e4b53814a409cc2ab5d9b33904b": {
          "model_module": "@jupyter-widgets/controls",
          "model_name": "DescriptionStyleModel",
          "model_module_version": "1.5.0",
          "state": {
            "_model_module": "@jupyter-widgets/controls",
            "_model_module_version": "1.5.0",
            "_model_name": "DescriptionStyleModel",
            "_view_count": null,
            "_view_module": "@jupyter-widgets/base",
            "_view_module_version": "1.2.0",
            "_view_name": "StyleView",
            "description_width": ""
          }
        },
        "f7a7684eda43462ca99bef63a4c4e9db": {
          "model_module": "@jupyter-widgets/controls",
          "model_name": "HBoxModel",
          "model_module_version": "1.5.0",
          "state": {
            "_dom_classes": [],
            "_model_module": "@jupyter-widgets/controls",
            "_model_module_version": "1.5.0",
            "_model_name": "HBoxModel",
            "_view_count": null,
            "_view_module": "@jupyter-widgets/controls",
            "_view_module_version": "1.5.0",
            "_view_name": "HBoxView",
            "box_style": "",
            "children": [
              "IPY_MODEL_ccd01d82cf404eb5aed4912a434537c7",
              "IPY_MODEL_1766cc27fa4946f0ab218e62818f3325",
              "IPY_MODEL_f051cd87ff0248b88491099f99a37a70"
            ],
            "layout": "IPY_MODEL_07b242f85f0a47a7a2c1b6d5276f20b1"
          }
        },
        "ccd01d82cf404eb5aed4912a434537c7": {
          "model_module": "@jupyter-widgets/controls",
          "model_name": "HTMLModel",
          "model_module_version": "1.5.0",
          "state": {
            "_dom_classes": [],
            "_model_module": "@jupyter-widgets/controls",
            "_model_module_version": "1.5.0",
            "_model_name": "HTMLModel",
            "_view_count": null,
            "_view_module": "@jupyter-widgets/controls",
            "_view_module_version": "1.5.0",
            "_view_name": "HTMLView",
            "description": "",
            "description_tooltip": null,
            "layout": "IPY_MODEL_8ea9548996f444a08e782043209519c3",
            "placeholder": "​",
            "style": "IPY_MODEL_107a1724b71c4447ab701b83d78e9c54",
            "value": "Downloading: 100%"
          }
        },
        "1766cc27fa4946f0ab218e62818f3325": {
          "model_module": "@jupyter-widgets/controls",
          "model_name": "FloatProgressModel",
          "model_module_version": "1.5.0",
          "state": {
            "_dom_classes": [],
            "_model_module": "@jupyter-widgets/controls",
            "_model_module_version": "1.5.0",
            "_model_name": "FloatProgressModel",
            "_view_count": null,
            "_view_module": "@jupyter-widgets/controls",
            "_view_module_version": "1.5.0",
            "_view_name": "ProgressView",
            "bar_style": "success",
            "description": "",
            "description_tooltip": null,
            "layout": "IPY_MODEL_2bc398ee3ee444e6b79fbf49f28c5eaf",
            "max": 456318,
            "min": 0,
            "orientation": "horizontal",
            "style": "IPY_MODEL_57b74bdf32204e60a6705fde5f44be73",
            "value": 456318
          }
        },
        "f051cd87ff0248b88491099f99a37a70": {
          "model_module": "@jupyter-widgets/controls",
          "model_name": "HTMLModel",
          "model_module_version": "1.5.0",
          "state": {
            "_dom_classes": [],
            "_model_module": "@jupyter-widgets/controls",
            "_model_module_version": "1.5.0",
            "_model_name": "HTMLModel",
            "_view_count": null,
            "_view_module": "@jupyter-widgets/controls",
            "_view_module_version": "1.5.0",
            "_view_name": "HTMLView",
            "description": "",
            "description_tooltip": null,
            "layout": "IPY_MODEL_d9e590d7d0e04f60a4805352f412f7e7",
            "placeholder": "​",
            "style": "IPY_MODEL_ebf02d9db3ea443cad830dfb111a228d",
            "value": " 446k/446k [00:00&lt;00:00, 1.04MB/s]"
          }
        },
        "07b242f85f0a47a7a2c1b6d5276f20b1": {
          "model_module": "@jupyter-widgets/base",
          "model_name": "LayoutModel",
          "model_module_version": "1.2.0",
          "state": {
            "_model_module": "@jupyter-widgets/base",
            "_model_module_version": "1.2.0",
            "_model_name": "LayoutModel",
            "_view_count": null,
            "_view_module": "@jupyter-widgets/base",
            "_view_module_version": "1.2.0",
            "_view_name": "LayoutView",
            "align_content": null,
            "align_items": null,
            "align_self": null,
            "border": null,
            "bottom": null,
            "display": null,
            "flex": null,
            "flex_flow": null,
            "grid_area": null,
            "grid_auto_columns": null,
            "grid_auto_flow": null,
            "grid_auto_rows": null,
            "grid_column": null,
            "grid_gap": null,
            "grid_row": null,
            "grid_template_areas": null,
            "grid_template_columns": null,
            "grid_template_rows": null,
            "height": null,
            "justify_content": null,
            "justify_items": null,
            "left": null,
            "margin": null,
            "max_height": null,
            "max_width": null,
            "min_height": null,
            "min_width": null,
            "object_fit": null,
            "object_position": null,
            "order": null,
            "overflow": null,
            "overflow_x": null,
            "overflow_y": null,
            "padding": null,
            "right": null,
            "top": null,
            "visibility": null,
            "width": null
          }
        },
        "8ea9548996f444a08e782043209519c3": {
          "model_module": "@jupyter-widgets/base",
          "model_name": "LayoutModel",
          "model_module_version": "1.2.0",
          "state": {
            "_model_module": "@jupyter-widgets/base",
            "_model_module_version": "1.2.0",
            "_model_name": "LayoutModel",
            "_view_count": null,
            "_view_module": "@jupyter-widgets/base",
            "_view_module_version": "1.2.0",
            "_view_name": "LayoutView",
            "align_content": null,
            "align_items": null,
            "align_self": null,
            "border": null,
            "bottom": null,
            "display": null,
            "flex": null,
            "flex_flow": null,
            "grid_area": null,
            "grid_auto_columns": null,
            "grid_auto_flow": null,
            "grid_auto_rows": null,
            "grid_column": null,
            "grid_gap": null,
            "grid_row": null,
            "grid_template_areas": null,
            "grid_template_columns": null,
            "grid_template_rows": null,
            "height": null,
            "justify_content": null,
            "justify_items": null,
            "left": null,
            "margin": null,
            "max_height": null,
            "max_width": null,
            "min_height": null,
            "min_width": null,
            "object_fit": null,
            "object_position": null,
            "order": null,
            "overflow": null,
            "overflow_x": null,
            "overflow_y": null,
            "padding": null,
            "right": null,
            "top": null,
            "visibility": null,
            "width": null
          }
        },
        "107a1724b71c4447ab701b83d78e9c54": {
          "model_module": "@jupyter-widgets/controls",
          "model_name": "DescriptionStyleModel",
          "model_module_version": "1.5.0",
          "state": {
            "_model_module": "@jupyter-widgets/controls",
            "_model_module_version": "1.5.0",
            "_model_name": "DescriptionStyleModel",
            "_view_count": null,
            "_view_module": "@jupyter-widgets/base",
            "_view_module_version": "1.2.0",
            "_view_name": "StyleView",
            "description_width": ""
          }
        },
        "2bc398ee3ee444e6b79fbf49f28c5eaf": {
          "model_module": "@jupyter-widgets/base",
          "model_name": "LayoutModel",
          "model_module_version": "1.2.0",
          "state": {
            "_model_module": "@jupyter-widgets/base",
            "_model_module_version": "1.2.0",
            "_model_name": "LayoutModel",
            "_view_count": null,
            "_view_module": "@jupyter-widgets/base",
            "_view_module_version": "1.2.0",
            "_view_name": "LayoutView",
            "align_content": null,
            "align_items": null,
            "align_self": null,
            "border": null,
            "bottom": null,
            "display": null,
            "flex": null,
            "flex_flow": null,
            "grid_area": null,
            "grid_auto_columns": null,
            "grid_auto_flow": null,
            "grid_auto_rows": null,
            "grid_column": null,
            "grid_gap": null,
            "grid_row": null,
            "grid_template_areas": null,
            "grid_template_columns": null,
            "grid_template_rows": null,
            "height": null,
            "justify_content": null,
            "justify_items": null,
            "left": null,
            "margin": null,
            "max_height": null,
            "max_width": null,
            "min_height": null,
            "min_width": null,
            "object_fit": null,
            "object_position": null,
            "order": null,
            "overflow": null,
            "overflow_x": null,
            "overflow_y": null,
            "padding": null,
            "right": null,
            "top": null,
            "visibility": null,
            "width": null
          }
        },
        "57b74bdf32204e60a6705fde5f44be73": {
          "model_module": "@jupyter-widgets/controls",
          "model_name": "ProgressStyleModel",
          "model_module_version": "1.5.0",
          "state": {
            "_model_module": "@jupyter-widgets/controls",
            "_model_module_version": "1.5.0",
            "_model_name": "ProgressStyleModel",
            "_view_count": null,
            "_view_module": "@jupyter-widgets/base",
            "_view_module_version": "1.2.0",
            "_view_name": "StyleView",
            "bar_color": null,
            "description_width": ""
          }
        },
        "d9e590d7d0e04f60a4805352f412f7e7": {
          "model_module": "@jupyter-widgets/base",
          "model_name": "LayoutModel",
          "model_module_version": "1.2.0",
          "state": {
            "_model_module": "@jupyter-widgets/base",
            "_model_module_version": "1.2.0",
            "_model_name": "LayoutModel",
            "_view_count": null,
            "_view_module": "@jupyter-widgets/base",
            "_view_module_version": "1.2.0",
            "_view_name": "LayoutView",
            "align_content": null,
            "align_items": null,
            "align_self": null,
            "border": null,
            "bottom": null,
            "display": null,
            "flex": null,
            "flex_flow": null,
            "grid_area": null,
            "grid_auto_columns": null,
            "grid_auto_flow": null,
            "grid_auto_rows": null,
            "grid_column": null,
            "grid_gap": null,
            "grid_row": null,
            "grid_template_areas": null,
            "grid_template_columns": null,
            "grid_template_rows": null,
            "height": null,
            "justify_content": null,
            "justify_items": null,
            "left": null,
            "margin": null,
            "max_height": null,
            "max_width": null,
            "min_height": null,
            "min_width": null,
            "object_fit": null,
            "object_position": null,
            "order": null,
            "overflow": null,
            "overflow_x": null,
            "overflow_y": null,
            "padding": null,
            "right": null,
            "top": null,
            "visibility": null,
            "width": null
          }
        },
        "ebf02d9db3ea443cad830dfb111a228d": {
          "model_module": "@jupyter-widgets/controls",
          "model_name": "DescriptionStyleModel",
          "model_module_version": "1.5.0",
          "state": {
            "_model_module": "@jupyter-widgets/controls",
            "_model_module_version": "1.5.0",
            "_model_name": "DescriptionStyleModel",
            "_view_count": null,
            "_view_module": "@jupyter-widgets/base",
            "_view_module_version": "1.2.0",
            "_view_name": "StyleView",
            "description_width": ""
          }
        },
        "e2e82c36b19d4fc5ad687d562d2aa4d0": {
          "model_module": "@jupyter-widgets/controls",
          "model_name": "HBoxModel",
          "model_module_version": "1.5.0",
          "state": {
            "_dom_classes": [],
            "_model_module": "@jupyter-widgets/controls",
            "_model_module_version": "1.5.0",
            "_model_name": "HBoxModel",
            "_view_count": null,
            "_view_module": "@jupyter-widgets/controls",
            "_view_module_version": "1.5.0",
            "_view_name": "HBoxView",
            "box_style": "",
            "children": [
              "IPY_MODEL_9ee7f3b22a4f48da930f0bf996dfaf67",
              "IPY_MODEL_a089f7430027464ea6e63ca2ac4a19fd",
              "IPY_MODEL_d8fb64ea678c4b83a3b4bbcd49cb77a3"
            ],
            "layout": "IPY_MODEL_6765b88a53094461977b4c2497bbd7ed"
          }
        },
        "9ee7f3b22a4f48da930f0bf996dfaf67": {
          "model_module": "@jupyter-widgets/controls",
          "model_name": "HTMLModel",
          "model_module_version": "1.5.0",
          "state": {
            "_dom_classes": [],
            "_model_module": "@jupyter-widgets/controls",
            "_model_module_version": "1.5.0",
            "_model_name": "HTMLModel",
            "_view_count": null,
            "_view_module": "@jupyter-widgets/controls",
            "_view_module_version": "1.5.0",
            "_view_name": "HTMLView",
            "description": "",
            "description_tooltip": null,
            "layout": "IPY_MODEL_8a18a7dc04574a55ac30121d71e014e9",
            "placeholder": "​",
            "style": "IPY_MODEL_2ecf484f7b9c43e59a9bb9185dd59af0",
            "value": "Downloading: 100%"
          }
        },
        "a089f7430027464ea6e63ca2ac4a19fd": {
          "model_module": "@jupyter-widgets/controls",
          "model_name": "FloatProgressModel",
          "model_module_version": "1.5.0",
          "state": {
            "_dom_classes": [],
            "_model_module": "@jupyter-widgets/controls",
            "_model_module_version": "1.5.0",
            "_model_name": "FloatProgressModel",
            "_view_count": null,
            "_view_module": "@jupyter-widgets/controls",
            "_view_module_version": "1.5.0",
            "_view_name": "ProgressView",
            "bar_style": "success",
            "description": "",
            "description_tooltip": null,
            "layout": "IPY_MODEL_cbe9435475084d748dc76a13074d5e3d",
            "max": 1355863,
            "min": 0,
            "orientation": "horizontal",
            "style": "IPY_MODEL_818eec71cc224e498340a055d01edf1e",
            "value": 1355863
          }
        },
        "d8fb64ea678c4b83a3b4bbcd49cb77a3": {
          "model_module": "@jupyter-widgets/controls",
          "model_name": "HTMLModel",
          "model_module_version": "1.5.0",
          "state": {
            "_dom_classes": [],
            "_model_module": "@jupyter-widgets/controls",
            "_model_module_version": "1.5.0",
            "_model_name": "HTMLModel",
            "_view_count": null,
            "_view_module": "@jupyter-widgets/controls",
            "_view_module_version": "1.5.0",
            "_view_name": "HTMLView",
            "description": "",
            "description_tooltip": null,
            "layout": "IPY_MODEL_bc59d2b4c5464229b17d88e441d3aa93",
            "placeholder": "​",
            "style": "IPY_MODEL_2d71f7b110224d8fbdf0599c56c865b3",
            "value": " 1.29M/1.29M [00:00&lt;00:00, 2.35MB/s]"
          }
        },
        "6765b88a53094461977b4c2497bbd7ed": {
          "model_module": "@jupyter-widgets/base",
          "model_name": "LayoutModel",
          "model_module_version": "1.2.0",
          "state": {
            "_model_module": "@jupyter-widgets/base",
            "_model_module_version": "1.2.0",
            "_model_name": "LayoutModel",
            "_view_count": null,
            "_view_module": "@jupyter-widgets/base",
            "_view_module_version": "1.2.0",
            "_view_name": "LayoutView",
            "align_content": null,
            "align_items": null,
            "align_self": null,
            "border": null,
            "bottom": null,
            "display": null,
            "flex": null,
            "flex_flow": null,
            "grid_area": null,
            "grid_auto_columns": null,
            "grid_auto_flow": null,
            "grid_auto_rows": null,
            "grid_column": null,
            "grid_gap": null,
            "grid_row": null,
            "grid_template_areas": null,
            "grid_template_columns": null,
            "grid_template_rows": null,
            "height": null,
            "justify_content": null,
            "justify_items": null,
            "left": null,
            "margin": null,
            "max_height": null,
            "max_width": null,
            "min_height": null,
            "min_width": null,
            "object_fit": null,
            "object_position": null,
            "order": null,
            "overflow": null,
            "overflow_x": null,
            "overflow_y": null,
            "padding": null,
            "right": null,
            "top": null,
            "visibility": null,
            "width": null
          }
        },
        "8a18a7dc04574a55ac30121d71e014e9": {
          "model_module": "@jupyter-widgets/base",
          "model_name": "LayoutModel",
          "model_module_version": "1.2.0",
          "state": {
            "_model_module": "@jupyter-widgets/base",
            "_model_module_version": "1.2.0",
            "_model_name": "LayoutModel",
            "_view_count": null,
            "_view_module": "@jupyter-widgets/base",
            "_view_module_version": "1.2.0",
            "_view_name": "LayoutView",
            "align_content": null,
            "align_items": null,
            "align_self": null,
            "border": null,
            "bottom": null,
            "display": null,
            "flex": null,
            "flex_flow": null,
            "grid_area": null,
            "grid_auto_columns": null,
            "grid_auto_flow": null,
            "grid_auto_rows": null,
            "grid_column": null,
            "grid_gap": null,
            "grid_row": null,
            "grid_template_areas": null,
            "grid_template_columns": null,
            "grid_template_rows": null,
            "height": null,
            "justify_content": null,
            "justify_items": null,
            "left": null,
            "margin": null,
            "max_height": null,
            "max_width": null,
            "min_height": null,
            "min_width": null,
            "object_fit": null,
            "object_position": null,
            "order": null,
            "overflow": null,
            "overflow_x": null,
            "overflow_y": null,
            "padding": null,
            "right": null,
            "top": null,
            "visibility": null,
            "width": null
          }
        },
        "2ecf484f7b9c43e59a9bb9185dd59af0": {
          "model_module": "@jupyter-widgets/controls",
          "model_name": "DescriptionStyleModel",
          "model_module_version": "1.5.0",
          "state": {
            "_model_module": "@jupyter-widgets/controls",
            "_model_module_version": "1.5.0",
            "_model_name": "DescriptionStyleModel",
            "_view_count": null,
            "_view_module": "@jupyter-widgets/base",
            "_view_module_version": "1.2.0",
            "_view_name": "StyleView",
            "description_width": ""
          }
        },
        "cbe9435475084d748dc76a13074d5e3d": {
          "model_module": "@jupyter-widgets/base",
          "model_name": "LayoutModel",
          "model_module_version": "1.2.0",
          "state": {
            "_model_module": "@jupyter-widgets/base",
            "_model_module_version": "1.2.0",
            "_model_name": "LayoutModel",
            "_view_count": null,
            "_view_module": "@jupyter-widgets/base",
            "_view_module_version": "1.2.0",
            "_view_name": "LayoutView",
            "align_content": null,
            "align_items": null,
            "align_self": null,
            "border": null,
            "bottom": null,
            "display": null,
            "flex": null,
            "flex_flow": null,
            "grid_area": null,
            "grid_auto_columns": null,
            "grid_auto_flow": null,
            "grid_auto_rows": null,
            "grid_column": null,
            "grid_gap": null,
            "grid_row": null,
            "grid_template_areas": null,
            "grid_template_columns": null,
            "grid_template_rows": null,
            "height": null,
            "justify_content": null,
            "justify_items": null,
            "left": null,
            "margin": null,
            "max_height": null,
            "max_width": null,
            "min_height": null,
            "min_width": null,
            "object_fit": null,
            "object_position": null,
            "order": null,
            "overflow": null,
            "overflow_x": null,
            "overflow_y": null,
            "padding": null,
            "right": null,
            "top": null,
            "visibility": null,
            "width": null
          }
        },
        "818eec71cc224e498340a055d01edf1e": {
          "model_module": "@jupyter-widgets/controls",
          "model_name": "ProgressStyleModel",
          "model_module_version": "1.5.0",
          "state": {
            "_model_module": "@jupyter-widgets/controls",
            "_model_module_version": "1.5.0",
            "_model_name": "ProgressStyleModel",
            "_view_count": null,
            "_view_module": "@jupyter-widgets/base",
            "_view_module_version": "1.2.0",
            "_view_name": "StyleView",
            "bar_color": null,
            "description_width": ""
          }
        },
        "bc59d2b4c5464229b17d88e441d3aa93": {
          "model_module": "@jupyter-widgets/base",
          "model_name": "LayoutModel",
          "model_module_version": "1.2.0",
          "state": {
            "_model_module": "@jupyter-widgets/base",
            "_model_module_version": "1.2.0",
            "_model_name": "LayoutModel",
            "_view_count": null,
            "_view_module": "@jupyter-widgets/base",
            "_view_module_version": "1.2.0",
            "_view_name": "LayoutView",
            "align_content": null,
            "align_items": null,
            "align_self": null,
            "border": null,
            "bottom": null,
            "display": null,
            "flex": null,
            "flex_flow": null,
            "grid_area": null,
            "grid_auto_columns": null,
            "grid_auto_flow": null,
            "grid_auto_rows": null,
            "grid_column": null,
            "grid_gap": null,
            "grid_row": null,
            "grid_template_areas": null,
            "grid_template_columns": null,
            "grid_template_rows": null,
            "height": null,
            "justify_content": null,
            "justify_items": null,
            "left": null,
            "margin": null,
            "max_height": null,
            "max_width": null,
            "min_height": null,
            "min_width": null,
            "object_fit": null,
            "object_position": null,
            "order": null,
            "overflow": null,
            "overflow_x": null,
            "overflow_y": null,
            "padding": null,
            "right": null,
            "top": null,
            "visibility": null,
            "width": null
          }
        },
        "2d71f7b110224d8fbdf0599c56c865b3": {
          "model_module": "@jupyter-widgets/controls",
          "model_name": "DescriptionStyleModel",
          "model_module_version": "1.5.0",
          "state": {
            "_model_module": "@jupyter-widgets/controls",
            "_model_module_version": "1.5.0",
            "_model_name": "DescriptionStyleModel",
            "_view_count": null,
            "_view_module": "@jupyter-widgets/base",
            "_view_module_version": "1.2.0",
            "_view_name": "StyleView",
            "description_width": ""
          }
        },
        "3d836ec2158543058d8d69a310614ff5": {
          "model_module": "@jupyter-widgets/controls",
          "model_name": "HBoxModel",
          "model_module_version": "1.5.0",
          "state": {
            "_dom_classes": [],
            "_model_module": "@jupyter-widgets/controls",
            "_model_module_version": "1.5.0",
            "_model_name": "HBoxModel",
            "_view_count": null,
            "_view_module": "@jupyter-widgets/controls",
            "_view_module_version": "1.5.0",
            "_view_name": "HBoxView",
            "box_style": "",
            "children": [
              "IPY_MODEL_d5109865e18f43bcabfba3df04847083",
              "IPY_MODEL_2a51b2a093c744d998c2be7c69f7820a",
              "IPY_MODEL_ad9fd6b121e34f51842080213a033db4"
            ],
            "layout": "IPY_MODEL_782a5a0c86cc4c44a5d5299f44c94457"
          }
        },
        "d5109865e18f43bcabfba3df04847083": {
          "model_module": "@jupyter-widgets/controls",
          "model_name": "HTMLModel",
          "model_module_version": "1.5.0",
          "state": {
            "_dom_classes": [],
            "_model_module": "@jupyter-widgets/controls",
            "_model_module_version": "1.5.0",
            "_model_name": "HTMLModel",
            "_view_count": null,
            "_view_module": "@jupyter-widgets/controls",
            "_view_module_version": "1.5.0",
            "_view_name": "HTMLView",
            "description": "",
            "description_tooltip": null,
            "layout": "IPY_MODEL_d0637fba837749e7aea0b061a9d3c475",
            "placeholder": "​",
            "style": "IPY_MODEL_5e6cf0d2774d477d9cf2ec77985adb11",
            "value": "Downloading: 100%"
          }
        },
        "2a51b2a093c744d998c2be7c69f7820a": {
          "model_module": "@jupyter-widgets/controls",
          "model_name": "FloatProgressModel",
          "model_module_version": "1.5.0",
          "state": {
            "_dom_classes": [],
            "_model_module": "@jupyter-widgets/controls",
            "_model_module_version": "1.5.0",
            "_model_name": "FloatProgressModel",
            "_view_count": null,
            "_view_module": "@jupyter-widgets/controls",
            "_view_module_version": "1.5.0",
            "_view_name": "ProgressView",
            "bar_style": "success",
            "description": "",
            "description_tooltip": null,
            "layout": "IPY_MODEL_621b486c73b8467e8fd5a01c155e91d4",
            "max": 481,
            "min": 0,
            "orientation": "horizontal",
            "style": "IPY_MODEL_db4d106a890941f1ad12934680d06d63",
            "value": 481
          }
        },
        "ad9fd6b121e34f51842080213a033db4": {
          "model_module": "@jupyter-widgets/controls",
          "model_name": "HTMLModel",
          "model_module_version": "1.5.0",
          "state": {
            "_dom_classes": [],
            "_model_module": "@jupyter-widgets/controls",
            "_model_module_version": "1.5.0",
            "_model_name": "HTMLModel",
            "_view_count": null,
            "_view_module": "@jupyter-widgets/controls",
            "_view_module_version": "1.5.0",
            "_view_name": "HTMLView",
            "description": "",
            "description_tooltip": null,
            "layout": "IPY_MODEL_013c167fbb064091bf2c8d3ef2f2aa80",
            "placeholder": "​",
            "style": "IPY_MODEL_b9e1a049c6c549eca65b3540c3cb5320",
            "value": " 481/481 [00:00&lt;00:00, 14.4kB/s]"
          }
        },
        "782a5a0c86cc4c44a5d5299f44c94457": {
          "model_module": "@jupyter-widgets/base",
          "model_name": "LayoutModel",
          "model_module_version": "1.2.0",
          "state": {
            "_model_module": "@jupyter-widgets/base",
            "_model_module_version": "1.2.0",
            "_model_name": "LayoutModel",
            "_view_count": null,
            "_view_module": "@jupyter-widgets/base",
            "_view_module_version": "1.2.0",
            "_view_name": "LayoutView",
            "align_content": null,
            "align_items": null,
            "align_self": null,
            "border": null,
            "bottom": null,
            "display": null,
            "flex": null,
            "flex_flow": null,
            "grid_area": null,
            "grid_auto_columns": null,
            "grid_auto_flow": null,
            "grid_auto_rows": null,
            "grid_column": null,
            "grid_gap": null,
            "grid_row": null,
            "grid_template_areas": null,
            "grid_template_columns": null,
            "grid_template_rows": null,
            "height": null,
            "justify_content": null,
            "justify_items": null,
            "left": null,
            "margin": null,
            "max_height": null,
            "max_width": null,
            "min_height": null,
            "min_width": null,
            "object_fit": null,
            "object_position": null,
            "order": null,
            "overflow": null,
            "overflow_x": null,
            "overflow_y": null,
            "padding": null,
            "right": null,
            "top": null,
            "visibility": null,
            "width": null
          }
        },
        "d0637fba837749e7aea0b061a9d3c475": {
          "model_module": "@jupyter-widgets/base",
          "model_name": "LayoutModel",
          "model_module_version": "1.2.0",
          "state": {
            "_model_module": "@jupyter-widgets/base",
            "_model_module_version": "1.2.0",
            "_model_name": "LayoutModel",
            "_view_count": null,
            "_view_module": "@jupyter-widgets/base",
            "_view_module_version": "1.2.0",
            "_view_name": "LayoutView",
            "align_content": null,
            "align_items": null,
            "align_self": null,
            "border": null,
            "bottom": null,
            "display": null,
            "flex": null,
            "flex_flow": null,
            "grid_area": null,
            "grid_auto_columns": null,
            "grid_auto_flow": null,
            "grid_auto_rows": null,
            "grid_column": null,
            "grid_gap": null,
            "grid_row": null,
            "grid_template_areas": null,
            "grid_template_columns": null,
            "grid_template_rows": null,
            "height": null,
            "justify_content": null,
            "justify_items": null,
            "left": null,
            "margin": null,
            "max_height": null,
            "max_width": null,
            "min_height": null,
            "min_width": null,
            "object_fit": null,
            "object_position": null,
            "order": null,
            "overflow": null,
            "overflow_x": null,
            "overflow_y": null,
            "padding": null,
            "right": null,
            "top": null,
            "visibility": null,
            "width": null
          }
        },
        "5e6cf0d2774d477d9cf2ec77985adb11": {
          "model_module": "@jupyter-widgets/controls",
          "model_name": "DescriptionStyleModel",
          "model_module_version": "1.5.0",
          "state": {
            "_model_module": "@jupyter-widgets/controls",
            "_model_module_version": "1.5.0",
            "_model_name": "DescriptionStyleModel",
            "_view_count": null,
            "_view_module": "@jupyter-widgets/base",
            "_view_module_version": "1.2.0",
            "_view_name": "StyleView",
            "description_width": ""
          }
        },
        "621b486c73b8467e8fd5a01c155e91d4": {
          "model_module": "@jupyter-widgets/base",
          "model_name": "LayoutModel",
          "model_module_version": "1.2.0",
          "state": {
            "_model_module": "@jupyter-widgets/base",
            "_model_module_version": "1.2.0",
            "_model_name": "LayoutModel",
            "_view_count": null,
            "_view_module": "@jupyter-widgets/base",
            "_view_module_version": "1.2.0",
            "_view_name": "LayoutView",
            "align_content": null,
            "align_items": null,
            "align_self": null,
            "border": null,
            "bottom": null,
            "display": null,
            "flex": null,
            "flex_flow": null,
            "grid_area": null,
            "grid_auto_columns": null,
            "grid_auto_flow": null,
            "grid_auto_rows": null,
            "grid_column": null,
            "grid_gap": null,
            "grid_row": null,
            "grid_template_areas": null,
            "grid_template_columns": null,
            "grid_template_rows": null,
            "height": null,
            "justify_content": null,
            "justify_items": null,
            "left": null,
            "margin": null,
            "max_height": null,
            "max_width": null,
            "min_height": null,
            "min_width": null,
            "object_fit": null,
            "object_position": null,
            "order": null,
            "overflow": null,
            "overflow_x": null,
            "overflow_y": null,
            "padding": null,
            "right": null,
            "top": null,
            "visibility": null,
            "width": null
          }
        },
        "db4d106a890941f1ad12934680d06d63": {
          "model_module": "@jupyter-widgets/controls",
          "model_name": "ProgressStyleModel",
          "model_module_version": "1.5.0",
          "state": {
            "_model_module": "@jupyter-widgets/controls",
            "_model_module_version": "1.5.0",
            "_model_name": "ProgressStyleModel",
            "_view_count": null,
            "_view_module": "@jupyter-widgets/base",
            "_view_module_version": "1.2.0",
            "_view_name": "StyleView",
            "bar_color": null,
            "description_width": ""
          }
        },
        "013c167fbb064091bf2c8d3ef2f2aa80": {
          "model_module": "@jupyter-widgets/base",
          "model_name": "LayoutModel",
          "model_module_version": "1.2.0",
          "state": {
            "_model_module": "@jupyter-widgets/base",
            "_model_module_version": "1.2.0",
            "_model_name": "LayoutModel",
            "_view_count": null,
            "_view_module": "@jupyter-widgets/base",
            "_view_module_version": "1.2.0",
            "_view_name": "LayoutView",
            "align_content": null,
            "align_items": null,
            "align_self": null,
            "border": null,
            "bottom": null,
            "display": null,
            "flex": null,
            "flex_flow": null,
            "grid_area": null,
            "grid_auto_columns": null,
            "grid_auto_flow": null,
            "grid_auto_rows": null,
            "grid_column": null,
            "grid_gap": null,
            "grid_row": null,
            "grid_template_areas": null,
            "grid_template_columns": null,
            "grid_template_rows": null,
            "height": null,
            "justify_content": null,
            "justify_items": null,
            "left": null,
            "margin": null,
            "max_height": null,
            "max_width": null,
            "min_height": null,
            "min_width": null,
            "object_fit": null,
            "object_position": null,
            "order": null,
            "overflow": null,
            "overflow_x": null,
            "overflow_y": null,
            "padding": null,
            "right": null,
            "top": null,
            "visibility": null,
            "width": null
          }
        },
        "b9e1a049c6c549eca65b3540c3cb5320": {
          "model_module": "@jupyter-widgets/controls",
          "model_name": "DescriptionStyleModel",
          "model_module_version": "1.5.0",
          "state": {
            "_model_module": "@jupyter-widgets/controls",
            "_model_module_version": "1.5.0",
            "_model_name": "DescriptionStyleModel",
            "_view_count": null,
            "_view_module": "@jupyter-widgets/base",
            "_view_module_version": "1.2.0",
            "_view_name": "StyleView",
            "description_width": ""
          }
        }
      }
    }
  },
  "cells": [
    {
      "cell_type": "markdown",
      "source": [
        "# Task 2: RoBERTa based ADR Classification"
      ],
      "metadata": {
        "id": "OMNIcn_mXzxD"
      }
    },
    {
      "cell_type": "markdown",
      "source": [
        "## 1. Install necessary libraries"
      ],
      "metadata": {
        "id": "zQ-0D858Y0R1"
      }
    },
    {
      "cell_type": "code",
      "source": [
        "!pip install -q contractions transformers sent2vec imbalanced-learn seqeval[gpu] ekphrasis\n",
        "!pip install -q tf-estimator-nightly==2.8.0.dev2021122109\n",
        "# !python -m pip uninstall -q -y spacy\n",
        "# !python -m pip install -q -U spacy"
      ],
      "metadata": {
        "id": "KYLYnoTIY2tX",
        "colab": {
          "base_uri": "https://localhost:8080/"
        },
        "outputId": "68c2759c-b6b5-4567-8038-9244af8e2659"
      },
      "execution_count": null,
      "outputs": [
        {
          "output_type": "stream",
          "name": "stdout",
          "text": [
            "\u001b[K     |████████████████████████████████| 4.0 MB 9.8 MB/s \n",
            "\u001b[K     |████████████████████████████████| 43 kB 1.0 MB/s \n",
            "\u001b[K     |████████████████████████████████| 80 kB 2.9 MB/s \n",
            "\u001b[K     |████████████████████████████████| 106 kB 38.6 MB/s \n",
            "\u001b[K     |████████████████████████████████| 287 kB 18.2 MB/s \n",
            "\u001b[K     |████████████████████████████████| 77 kB 3.3 MB/s \n",
            "\u001b[K     |████████████████████████████████| 895 kB 39.2 MB/s \n",
            "\u001b[K     |████████████████████████████████| 6.6 MB 9.0 MB/s \n",
            "\u001b[K     |████████████████████████████████| 596 kB 28.1 MB/s \n",
            "\u001b[K     |████████████████████████████████| 45 kB 1.1 MB/s \n",
            "\u001b[K     |████████████████████████████████| 53 kB 1.2 MB/s \n",
            "\u001b[?25h  Building wheel for ekphrasis (setup.py) ... \u001b[?25l\u001b[?25hdone\n",
            "  Building wheel for seqeval (setup.py) ... \u001b[?25l\u001b[?25hdone\n",
            "\u001b[K     |████████████████████████████████| 462 kB 7.8 MB/s \n",
            "\u001b[K     |████████████████████████████████| 6.0 MB 11.1 MB/s \n",
            "\u001b[K     |████████████████████████████████| 42 kB 1.4 MB/s \n",
            "\u001b[K     |████████████████████████████████| 653 kB 40.0 MB/s \n",
            "\u001b[K     |████████████████████████████████| 457 kB 47.6 MB/s \n",
            "\u001b[K     |████████████████████████████████| 10.1 MB 40.9 MB/s \n",
            "\u001b[K     |████████████████████████████████| 181 kB 48.7 MB/s \n",
            "\u001b[?25h"
          ]
        }
      ]
    },
    {
      "cell_type": "code",
      "source": [
        "# !python -m spacy download en_core_web_sm"
      ],
      "metadata": {
        "colab": {
          "base_uri": "https://localhost:8080/"
        },
        "id": "_C8JtPXeY4w_",
        "outputId": "90e18c0a-ee6a-4741-c7c0-f3ef24a00523"
      },
      "execution_count": null,
      "outputs": [
        {
          "output_type": "stream",
          "name": "stdout",
          "text": [
            "Collecting en-core-web-sm==3.2.0\n",
            "  Downloading https://github.com/explosion/spacy-models/releases/download/en_core_web_sm-3.2.0/en_core_web_sm-3.2.0-py3-none-any.whl (13.9 MB)\n",
            "\u001b[K     |████████████████████████████████| 13.9 MB 409 kB/s \n",
            "\u001b[?25hRequirement already satisfied: spacy<3.3.0,>=3.2.0 in /usr/local/lib/python3.7/dist-packages (from en-core-web-sm==3.2.0) (3.2.4)\n",
            "Requirement already satisfied: setuptools in /usr/local/lib/python3.7/dist-packages (from spacy<3.3.0,>=3.2.0->en-core-web-sm==3.2.0) (57.4.0)\n",
            "Requirement already satisfied: requests<3.0.0,>=2.13.0 in /usr/local/lib/python3.7/dist-packages (from spacy<3.3.0,>=3.2.0->en-core-web-sm==3.2.0) (2.23.0)\n",
            "Requirement already satisfied: thinc<8.1.0,>=8.0.12 in /usr/local/lib/python3.7/dist-packages (from spacy<3.3.0,>=3.2.0->en-core-web-sm==3.2.0) (8.0.15)\n",
            "Requirement already satisfied: spacy-legacy<3.1.0,>=3.0.8 in /usr/local/lib/python3.7/dist-packages (from spacy<3.3.0,>=3.2.0->en-core-web-sm==3.2.0) (3.0.9)\n",
            "Requirement already satisfied: catalogue<2.1.0,>=2.0.6 in /usr/local/lib/python3.7/dist-packages (from spacy<3.3.0,>=3.2.0->en-core-web-sm==3.2.0) (2.0.7)\n",
            "Requirement already satisfied: murmurhash<1.1.0,>=0.28.0 in /usr/local/lib/python3.7/dist-packages (from spacy<3.3.0,>=3.2.0->en-core-web-sm==3.2.0) (1.0.6)\n",
            "Requirement already satisfied: pydantic!=1.8,!=1.8.1,<1.9.0,>=1.7.4 in /usr/local/lib/python3.7/dist-packages (from spacy<3.3.0,>=3.2.0->en-core-web-sm==3.2.0) (1.8.2)\n",
            "Requirement already satisfied: langcodes<4.0.0,>=3.2.0 in /usr/local/lib/python3.7/dist-packages (from spacy<3.3.0,>=3.2.0->en-core-web-sm==3.2.0) (3.3.0)\n",
            "Requirement already satisfied: numpy>=1.15.0 in /usr/local/lib/python3.7/dist-packages (from spacy<3.3.0,>=3.2.0->en-core-web-sm==3.2.0) (1.21.6)\n",
            "Requirement already satisfied: cymem<2.1.0,>=2.0.2 in /usr/local/lib/python3.7/dist-packages (from spacy<3.3.0,>=3.2.0->en-core-web-sm==3.2.0) (2.0.6)\n",
            "Requirement already satisfied: pathy>=0.3.5 in /usr/local/lib/python3.7/dist-packages (from spacy<3.3.0,>=3.2.0->en-core-web-sm==3.2.0) (0.6.1)\n",
            "Requirement already satisfied: spacy-loggers<2.0.0,>=1.0.0 in /usr/local/lib/python3.7/dist-packages (from spacy<3.3.0,>=3.2.0->en-core-web-sm==3.2.0) (1.0.2)\n",
            "Requirement already satisfied: typer<0.5.0,>=0.3.0 in /usr/local/lib/python3.7/dist-packages (from spacy<3.3.0,>=3.2.0->en-core-web-sm==3.2.0) (0.4.1)\n",
            "Requirement already satisfied: jinja2 in /usr/local/lib/python3.7/dist-packages (from spacy<3.3.0,>=3.2.0->en-core-web-sm==3.2.0) (2.11.3)\n",
            "Requirement already satisfied: wasabi<1.1.0,>=0.8.1 in /usr/local/lib/python3.7/dist-packages (from spacy<3.3.0,>=3.2.0->en-core-web-sm==3.2.0) (0.9.1)\n",
            "Requirement already satisfied: click<8.1.0 in /usr/local/lib/python3.7/dist-packages (from spacy<3.3.0,>=3.2.0->en-core-web-sm==3.2.0) (7.1.2)\n",
            "Requirement already satisfied: typing-extensions<4.0.0.0,>=3.7.4 in /usr/local/lib/python3.7/dist-packages (from spacy<3.3.0,>=3.2.0->en-core-web-sm==3.2.0) (3.10.0.2)\n",
            "Requirement already satisfied: packaging>=20.0 in /usr/local/lib/python3.7/dist-packages (from spacy<3.3.0,>=3.2.0->en-core-web-sm==3.2.0) (21.3)\n",
            "Requirement already satisfied: srsly<3.0.0,>=2.4.1 in /usr/local/lib/python3.7/dist-packages (from spacy<3.3.0,>=3.2.0->en-core-web-sm==3.2.0) (2.4.3)\n",
            "Requirement already satisfied: tqdm<5.0.0,>=4.38.0 in /usr/local/lib/python3.7/dist-packages (from spacy<3.3.0,>=3.2.0->en-core-web-sm==3.2.0) (4.64.0)\n",
            "Requirement already satisfied: preshed<3.1.0,>=3.0.2 in /usr/local/lib/python3.7/dist-packages (from spacy<3.3.0,>=3.2.0->en-core-web-sm==3.2.0) (3.0.6)\n",
            "Requirement already satisfied: blis<0.8.0,>=0.4.0 in /usr/local/lib/python3.7/dist-packages (from spacy<3.3.0,>=3.2.0->en-core-web-sm==3.2.0) (0.4.1)\n",
            "Requirement already satisfied: zipp>=0.5 in /usr/local/lib/python3.7/dist-packages (from catalogue<2.1.0,>=2.0.6->spacy<3.3.0,>=3.2.0->en-core-web-sm==3.2.0) (3.8.0)\n",
            "Requirement already satisfied: pyparsing!=3.0.5,>=2.0.2 in /usr/local/lib/python3.7/dist-packages (from packaging>=20.0->spacy<3.3.0,>=3.2.0->en-core-web-sm==3.2.0) (3.0.8)\n",
            "Requirement already satisfied: smart-open<6.0.0,>=5.0.0 in /usr/local/lib/python3.7/dist-packages (from pathy>=0.3.5->spacy<3.3.0,>=3.2.0->en-core-web-sm==3.2.0) (5.2.1)\n",
            "Requirement already satisfied: urllib3!=1.25.0,!=1.25.1,<1.26,>=1.21.1 in /usr/local/lib/python3.7/dist-packages (from requests<3.0.0,>=2.13.0->spacy<3.3.0,>=3.2.0->en-core-web-sm==3.2.0) (1.24.3)\n",
            "Requirement already satisfied: idna<3,>=2.5 in /usr/local/lib/python3.7/dist-packages (from requests<3.0.0,>=2.13.0->spacy<3.3.0,>=3.2.0->en-core-web-sm==3.2.0) (2.10)\n",
            "Requirement already satisfied: certifi>=2017.4.17 in /usr/local/lib/python3.7/dist-packages (from requests<3.0.0,>=2.13.0->spacy<3.3.0,>=3.2.0->en-core-web-sm==3.2.0) (2021.10.8)\n",
            "Requirement already satisfied: chardet<4,>=3.0.2 in /usr/local/lib/python3.7/dist-packages (from requests<3.0.0,>=2.13.0->spacy<3.3.0,>=3.2.0->en-core-web-sm==3.2.0) (3.0.4)\n",
            "Requirement already satisfied: MarkupSafe>=0.23 in /usr/local/lib/python3.7/dist-packages (from jinja2->spacy<3.3.0,>=3.2.0->en-core-web-sm==3.2.0) (2.0.1)\n",
            "Installing collected packages: en-core-web-sm\n",
            "  Attempting uninstall: en-core-web-sm\n",
            "    Found existing installation: en-core-web-sm 2.2.5\n",
            "    Uninstalling en-core-web-sm-2.2.5:\n",
            "      Successfully uninstalled en-core-web-sm-2.2.5\n",
            "Successfully installed en-core-web-sm-3.2.0\n",
            "\u001b[38;5;2m✔ Download and installation successful\u001b[0m\n",
            "You can now load the package via spacy.load('en_core_web_sm')\n"
          ]
        }
      ]
    },
    {
      "cell_type": "markdown",
      "source": [
        "## 2. Load all the libraries"
      ],
      "metadata": {
        "id": "vTNLaw0WY7d6"
      }
    },
    {
      "cell_type": "code",
      "source": [
        "import numpy as np\n",
        "import pandas as pd\n",
        "import torch\n",
        "import warnings\n",
        "import torch.nn as nn\n",
        "\n",
        "from transformers import RobertaTokenizerFast, RobertaModel\n",
        "from torch.utils.data import TensorDataset, DataLoader, RandomSampler, SequentialSampler\n",
        "from sklearn.metrics import accuracy_score, classification_report, f1_score\n",
        "from ekphrasis.classes.preprocessor import TextPreProcessor\n",
        "from ekphrasis.classes.tokenizer import SocialTokenizer\n",
        "from ekphrasis.dicts.emoticons import emoticons\n",
        "from tqdm import tqdm\n",
        "\n",
        "pd.options.display.max_rows = None\n",
        "pd.options.display.max_columns = None\n",
        "pd.options.display.max_colwidth=None\n",
        "warnings.filterwarnings(\"ignore\")"
      ],
      "metadata": {
        "id": "IhrTc_vsY_hl"
      },
      "execution_count": null,
      "outputs": []
    },
    {
      "cell_type": "markdown",
      "source": [
        "## 3. Load the dataset"
      ],
      "metadata": {
        "id": "Sc9Mp09fZMA5"
      }
    },
    {
      "cell_type": "code",
      "source": [
        "# Load data\n",
        "training = pd.read_csv('task3_training.tsv',sep='\\t', usecols=['tweet_id', 'begin', 'end', 'type', 'extraction', 'drug', 'tweet', 'meddra_code', 'meddra_term'])\n",
        "validation = pd.read_csv('task3_validation.tsv', sep=\"\\t\", skipinitialspace=True)"
      ],
      "metadata": {
        "id": "4LmpUfXEZONl"
      },
      "execution_count": null,
      "outputs": []
    },
    {
      "cell_type": "code",
      "source": [
        "training.head()"
      ],
      "metadata": {
        "colab": {
          "base_uri": "https://localhost:8080/",
          "height": 635
        },
        "id": "Y-nA25M_ZS0o",
        "outputId": "850f5336-aa64-4f56-bcb0-518388b1fe08"
      },
      "execution_count": null,
      "outputs": [
        {
          "output_type": "execute_result",
          "data": {
            "text/plain": [
              "             tweet_id  begin  end type extraction         drug  \\\n",
              "0  331187619096588288    NaN  NaN  NaN        NaN    ofloxacin   \n",
              "1  332227554956161024    NaN  NaN  NaN        NaN    trazodone   \n",
              "2  332448217490944000    NaN  NaN  NaN        NaN  lamotrigine   \n",
              "3  332977955754110976    NaN  NaN  NaN        NaN     cymbalta   \n",
              "4  333674203331051520    NaN  NaN  NaN        NaN     seroquel   \n",
              "\n",
              "                                                                                                                                         tweet  \\\n",
              "0  @seefisch:oral drugs for pyelonephritis:ciprofloxacin levofloxacin tmp/smz do not use nitrofurantoin for pyelo(only cystitis)@david_medinaf   \n",
              "1       happy for wellbutrin; has similar effects as adderall.. trazodone is super promising for sleep.. but abilify can cause weight gain -_-   \n",
              "2  @stilgarg i'm ok ty have an official diagnosis of bipolar now, feeling ok at the moment lamotrigine has been increased having monotherapy:/   \n",
              "3                                                                                                i'm soo depressed cymbalta couldn't help me .   \n",
              "4                        time for my daily afternoon relaxation ritual of smoking weed, taking 2 mgs of clonazepam, and 400 mg of seroquel xr.   \n",
              "\n",
              "   meddra_code meddra_term  \n",
              "0          NaN         NaN  \n",
              "1          NaN         NaN  \n",
              "2          NaN         NaN  \n",
              "3          NaN         NaN  \n",
              "4          NaN         NaN  "
            ],
            "text/html": [
              "\n",
              "  <div id=\"df-d52fa9f5-4c61-444b-972b-68ada87a5483\">\n",
              "    <div class=\"colab-df-container\">\n",
              "      <div>\n",
              "<style scoped>\n",
              "    .dataframe tbody tr th:only-of-type {\n",
              "        vertical-align: middle;\n",
              "    }\n",
              "\n",
              "    .dataframe tbody tr th {\n",
              "        vertical-align: top;\n",
              "    }\n",
              "\n",
              "    .dataframe thead th {\n",
              "        text-align: right;\n",
              "    }\n",
              "</style>\n",
              "<table border=\"1\" class=\"dataframe\">\n",
              "  <thead>\n",
              "    <tr style=\"text-align: right;\">\n",
              "      <th></th>\n",
              "      <th>tweet_id</th>\n",
              "      <th>begin</th>\n",
              "      <th>end</th>\n",
              "      <th>type</th>\n",
              "      <th>extraction</th>\n",
              "      <th>drug</th>\n",
              "      <th>tweet</th>\n",
              "      <th>meddra_code</th>\n",
              "      <th>meddra_term</th>\n",
              "    </tr>\n",
              "  </thead>\n",
              "  <tbody>\n",
              "    <tr>\n",
              "      <th>0</th>\n",
              "      <td>331187619096588288</td>\n",
              "      <td>NaN</td>\n",
              "      <td>NaN</td>\n",
              "      <td>NaN</td>\n",
              "      <td>NaN</td>\n",
              "      <td>ofloxacin</td>\n",
              "      <td>@seefisch:oral drugs for pyelonephritis:ciprofloxacin levofloxacin tmp/smz do not use nitrofurantoin for pyelo(only cystitis)@david_medinaf</td>\n",
              "      <td>NaN</td>\n",
              "      <td>NaN</td>\n",
              "    </tr>\n",
              "    <tr>\n",
              "      <th>1</th>\n",
              "      <td>332227554956161024</td>\n",
              "      <td>NaN</td>\n",
              "      <td>NaN</td>\n",
              "      <td>NaN</td>\n",
              "      <td>NaN</td>\n",
              "      <td>trazodone</td>\n",
              "      <td>happy for wellbutrin; has similar effects as adderall.. trazodone is super promising for sleep.. but abilify can cause weight gain -_-</td>\n",
              "      <td>NaN</td>\n",
              "      <td>NaN</td>\n",
              "    </tr>\n",
              "    <tr>\n",
              "      <th>2</th>\n",
              "      <td>332448217490944000</td>\n",
              "      <td>NaN</td>\n",
              "      <td>NaN</td>\n",
              "      <td>NaN</td>\n",
              "      <td>NaN</td>\n",
              "      <td>lamotrigine</td>\n",
              "      <td>@stilgarg i'm ok ty have an official diagnosis of bipolar now, feeling ok at the moment lamotrigine has been increased having monotherapy:/</td>\n",
              "      <td>NaN</td>\n",
              "      <td>NaN</td>\n",
              "    </tr>\n",
              "    <tr>\n",
              "      <th>3</th>\n",
              "      <td>332977955754110976</td>\n",
              "      <td>NaN</td>\n",
              "      <td>NaN</td>\n",
              "      <td>NaN</td>\n",
              "      <td>NaN</td>\n",
              "      <td>cymbalta</td>\n",
              "      <td>i'm soo depressed cymbalta couldn't help me .</td>\n",
              "      <td>NaN</td>\n",
              "      <td>NaN</td>\n",
              "    </tr>\n",
              "    <tr>\n",
              "      <th>4</th>\n",
              "      <td>333674203331051520</td>\n",
              "      <td>NaN</td>\n",
              "      <td>NaN</td>\n",
              "      <td>NaN</td>\n",
              "      <td>NaN</td>\n",
              "      <td>seroquel</td>\n",
              "      <td>time for my daily afternoon relaxation ritual of smoking weed, taking 2 mgs of clonazepam, and 400 mg of seroquel xr.</td>\n",
              "      <td>NaN</td>\n",
              "      <td>NaN</td>\n",
              "    </tr>\n",
              "  </tbody>\n",
              "</table>\n",
              "</div>\n",
              "      <button class=\"colab-df-convert\" onclick=\"convertToInteractive('df-d52fa9f5-4c61-444b-972b-68ada87a5483')\"\n",
              "              title=\"Convert this dataframe to an interactive table.\"\n",
              "              style=\"display:none;\">\n",
              "        \n",
              "  <svg xmlns=\"http://www.w3.org/2000/svg\" height=\"24px\"viewBox=\"0 0 24 24\"\n",
              "       width=\"24px\">\n",
              "    <path d=\"M0 0h24v24H0V0z\" fill=\"none\"/>\n",
              "    <path d=\"M18.56 5.44l.94 2.06.94-2.06 2.06-.94-2.06-.94-.94-2.06-.94 2.06-2.06.94zm-11 1L8.5 8.5l.94-2.06 2.06-.94-2.06-.94L8.5 2.5l-.94 2.06-2.06.94zm10 10l.94 2.06.94-2.06 2.06-.94-2.06-.94-.94-2.06-.94 2.06-2.06.94z\"/><path d=\"M17.41 7.96l-1.37-1.37c-.4-.4-.92-.59-1.43-.59-.52 0-1.04.2-1.43.59L10.3 9.45l-7.72 7.72c-.78.78-.78 2.05 0 2.83L4 21.41c.39.39.9.59 1.41.59.51 0 1.02-.2 1.41-.59l7.78-7.78 2.81-2.81c.8-.78.8-2.07 0-2.86zM5.41 20L4 18.59l7.72-7.72 1.47 1.35L5.41 20z\"/>\n",
              "  </svg>\n",
              "      </button>\n",
              "      \n",
              "  <style>\n",
              "    .colab-df-container {\n",
              "      display:flex;\n",
              "      flex-wrap:wrap;\n",
              "      gap: 12px;\n",
              "    }\n",
              "\n",
              "    .colab-df-convert {\n",
              "      background-color: #E8F0FE;\n",
              "      border: none;\n",
              "      border-radius: 50%;\n",
              "      cursor: pointer;\n",
              "      display: none;\n",
              "      fill: #1967D2;\n",
              "      height: 32px;\n",
              "      padding: 0 0 0 0;\n",
              "      width: 32px;\n",
              "    }\n",
              "\n",
              "    .colab-df-convert:hover {\n",
              "      background-color: #E2EBFA;\n",
              "      box-shadow: 0px 1px 2px rgba(60, 64, 67, 0.3), 0px 1px 3px 1px rgba(60, 64, 67, 0.15);\n",
              "      fill: #174EA6;\n",
              "    }\n",
              "\n",
              "    [theme=dark] .colab-df-convert {\n",
              "      background-color: #3B4455;\n",
              "      fill: #D2E3FC;\n",
              "    }\n",
              "\n",
              "    [theme=dark] .colab-df-convert:hover {\n",
              "      background-color: #434B5C;\n",
              "      box-shadow: 0px 1px 3px 1px rgba(0, 0, 0, 0.15);\n",
              "      filter: drop-shadow(0px 1px 2px rgba(0, 0, 0, 0.3));\n",
              "      fill: #FFFFFF;\n",
              "    }\n",
              "  </style>\n",
              "\n",
              "      <script>\n",
              "        const buttonEl =\n",
              "          document.querySelector('#df-d52fa9f5-4c61-444b-972b-68ada87a5483 button.colab-df-convert');\n",
              "        buttonEl.style.display =\n",
              "          google.colab.kernel.accessAllowed ? 'block' : 'none';\n",
              "\n",
              "        async function convertToInteractive(key) {\n",
              "          const element = document.querySelector('#df-d52fa9f5-4c61-444b-972b-68ada87a5483');\n",
              "          const dataTable =\n",
              "            await google.colab.kernel.invokeFunction('convertToInteractive',\n",
              "                                                     [key], {});\n",
              "          if (!dataTable) return;\n",
              "\n",
              "          const docLinkHtml = 'Like what you see? Visit the ' +\n",
              "            '<a target=\"_blank\" href=https://colab.research.google.com/notebooks/data_table.ipynb>data table notebook</a>'\n",
              "            + ' to learn more about interactive tables.';\n",
              "          element.innerHTML = '';\n",
              "          dataTable['output_type'] = 'display_data';\n",
              "          await google.colab.output.renderOutput(dataTable, element);\n",
              "          const docLink = document.createElement('div');\n",
              "          docLink.innerHTML = docLinkHtml;\n",
              "          element.appendChild(docLink);\n",
              "        }\n",
              "      </script>\n",
              "    </div>\n",
              "  </div>\n",
              "  "
            ]
          },
          "metadata": {},
          "execution_count": 6
        }
      ]
    },
    {
      "cell_type": "code",
      "source": [
        "print(f\"Shape of Training data: {training.shape}\")\n",
        "print(f\"Shape of Validation data: {validation.shape}\")"
      ],
      "metadata": {
        "colab": {
          "base_uri": "https://localhost:8080/"
        },
        "id": "ewCSMBIaZT6H",
        "outputId": "130f916b-cb29-4865-ca9d-301ecb370c40"
      },
      "execution_count": null,
      "outputs": [
        {
          "output_type": "stream",
          "name": "stdout",
          "text": [
            "Shape of Training data: (2246, 9)\n",
            "Shape of Validation data: (560, 9)\n"
          ]
        }
      ]
    },
    {
      "cell_type": "markdown",
      "source": [
        "## 4. Prepare the data"
      ],
      "metadata": {
        "id": "_KnkTB8QaTK_"
      }
    },
    {
      "cell_type": "code",
      "source": [
        "training.head()"
      ],
      "metadata": {
        "colab": {
          "base_uri": "https://localhost:8080/",
          "height": 302
        },
        "id": "srLbuSq1ecOO",
        "outputId": "bdb7262c-b046-41f2-daff-5cb68e2365a5"
      },
      "execution_count": null,
      "outputs": [
        {
          "output_type": "execute_result",
          "data": {
            "text/plain": [
              "             tweet_id  begin  end type extraction         drug  \\\n",
              "0  331187619096588288    NaN  NaN  NaN        NaN    ofloxacin   \n",
              "1  332227554956161024    NaN  NaN  NaN        NaN    trazodone   \n",
              "2  332448217490944000    NaN  NaN  NaN        NaN  lamotrigine   \n",
              "3  332977955754110976    NaN  NaN  NaN        NaN     cymbalta   \n",
              "4  333674203331051520    NaN  NaN  NaN        NaN     seroquel   \n",
              "\n",
              "                                                                                                                                         tweet  \\\n",
              "0  @seefisch:oral drugs for pyelonephritis:ciprofloxacin levofloxacin tmp/smz do not use nitrofurantoin for pyelo(only cystitis)@david_medinaf   \n",
              "1       happy for wellbutrin; has similar effects as adderall.. trazodone is super promising for sleep.. but abilify can cause weight gain -_-   \n",
              "2  @stilgarg i'm ok ty have an official diagnosis of bipolar now, feeling ok at the moment lamotrigine has been increased having monotherapy:/   \n",
              "3                                                                                                i'm soo depressed cymbalta couldn't help me .   \n",
              "4                        time for my daily afternoon relaxation ritual of smoking weed, taking 2 mgs of clonazepam, and 400 mg of seroquel xr.   \n",
              "\n",
              "   meddra_code meddra_term  \n",
              "0          NaN         NaN  \n",
              "1          NaN         NaN  \n",
              "2          NaN         NaN  \n",
              "3          NaN         NaN  \n",
              "4          NaN         NaN  "
            ],
            "text/html": [
              "\n",
              "  <div id=\"df-5388c341-b0af-41b9-a6ac-13a4b39845a1\">\n",
              "    <div class=\"colab-df-container\">\n",
              "      <div>\n",
              "<style scoped>\n",
              "    .dataframe tbody tr th:only-of-type {\n",
              "        vertical-align: middle;\n",
              "    }\n",
              "\n",
              "    .dataframe tbody tr th {\n",
              "        vertical-align: top;\n",
              "    }\n",
              "\n",
              "    .dataframe thead th {\n",
              "        text-align: right;\n",
              "    }\n",
              "</style>\n",
              "<table border=\"1\" class=\"dataframe\">\n",
              "  <thead>\n",
              "    <tr style=\"text-align: right;\">\n",
              "      <th></th>\n",
              "      <th>tweet_id</th>\n",
              "      <th>begin</th>\n",
              "      <th>end</th>\n",
              "      <th>type</th>\n",
              "      <th>extraction</th>\n",
              "      <th>drug</th>\n",
              "      <th>tweet</th>\n",
              "      <th>meddra_code</th>\n",
              "      <th>meddra_term</th>\n",
              "    </tr>\n",
              "  </thead>\n",
              "  <tbody>\n",
              "    <tr>\n",
              "      <th>0</th>\n",
              "      <td>331187619096588288</td>\n",
              "      <td>NaN</td>\n",
              "      <td>NaN</td>\n",
              "      <td>NaN</td>\n",
              "      <td>NaN</td>\n",
              "      <td>ofloxacin</td>\n",
              "      <td>@seefisch:oral drugs for pyelonephritis:ciprofloxacin levofloxacin tmp/smz do not use nitrofurantoin for pyelo(only cystitis)@david_medinaf</td>\n",
              "      <td>NaN</td>\n",
              "      <td>NaN</td>\n",
              "    </tr>\n",
              "    <tr>\n",
              "      <th>1</th>\n",
              "      <td>332227554956161024</td>\n",
              "      <td>NaN</td>\n",
              "      <td>NaN</td>\n",
              "      <td>NaN</td>\n",
              "      <td>NaN</td>\n",
              "      <td>trazodone</td>\n",
              "      <td>happy for wellbutrin; has similar effects as adderall.. trazodone is super promising for sleep.. but abilify can cause weight gain -_-</td>\n",
              "      <td>NaN</td>\n",
              "      <td>NaN</td>\n",
              "    </tr>\n",
              "    <tr>\n",
              "      <th>2</th>\n",
              "      <td>332448217490944000</td>\n",
              "      <td>NaN</td>\n",
              "      <td>NaN</td>\n",
              "      <td>NaN</td>\n",
              "      <td>NaN</td>\n",
              "      <td>lamotrigine</td>\n",
              "      <td>@stilgarg i'm ok ty have an official diagnosis of bipolar now, feeling ok at the moment lamotrigine has been increased having monotherapy:/</td>\n",
              "      <td>NaN</td>\n",
              "      <td>NaN</td>\n",
              "    </tr>\n",
              "    <tr>\n",
              "      <th>3</th>\n",
              "      <td>332977955754110976</td>\n",
              "      <td>NaN</td>\n",
              "      <td>NaN</td>\n",
              "      <td>NaN</td>\n",
              "      <td>NaN</td>\n",
              "      <td>cymbalta</td>\n",
              "      <td>i'm soo depressed cymbalta couldn't help me .</td>\n",
              "      <td>NaN</td>\n",
              "      <td>NaN</td>\n",
              "    </tr>\n",
              "    <tr>\n",
              "      <th>4</th>\n",
              "      <td>333674203331051520</td>\n",
              "      <td>NaN</td>\n",
              "      <td>NaN</td>\n",
              "      <td>NaN</td>\n",
              "      <td>NaN</td>\n",
              "      <td>seroquel</td>\n",
              "      <td>time for my daily afternoon relaxation ritual of smoking weed, taking 2 mgs of clonazepam, and 400 mg of seroquel xr.</td>\n",
              "      <td>NaN</td>\n",
              "      <td>NaN</td>\n",
              "    </tr>\n",
              "  </tbody>\n",
              "</table>\n",
              "</div>\n",
              "      <button class=\"colab-df-convert\" onclick=\"convertToInteractive('df-5388c341-b0af-41b9-a6ac-13a4b39845a1')\"\n",
              "              title=\"Convert this dataframe to an interactive table.\"\n",
              "              style=\"display:none;\">\n",
              "        \n",
              "  <svg xmlns=\"http://www.w3.org/2000/svg\" height=\"24px\"viewBox=\"0 0 24 24\"\n",
              "       width=\"24px\">\n",
              "    <path d=\"M0 0h24v24H0V0z\" fill=\"none\"/>\n",
              "    <path d=\"M18.56 5.44l.94 2.06.94-2.06 2.06-.94-2.06-.94-.94-2.06-.94 2.06-2.06.94zm-11 1L8.5 8.5l.94-2.06 2.06-.94-2.06-.94L8.5 2.5l-.94 2.06-2.06.94zm10 10l.94 2.06.94-2.06 2.06-.94-2.06-.94-.94-2.06-.94 2.06-2.06.94z\"/><path d=\"M17.41 7.96l-1.37-1.37c-.4-.4-.92-.59-1.43-.59-.52 0-1.04.2-1.43.59L10.3 9.45l-7.72 7.72c-.78.78-.78 2.05 0 2.83L4 21.41c.39.39.9.59 1.41.59.51 0 1.02-.2 1.41-.59l7.78-7.78 2.81-2.81c.8-.78.8-2.07 0-2.86zM5.41 20L4 18.59l7.72-7.72 1.47 1.35L5.41 20z\"/>\n",
              "  </svg>\n",
              "      </button>\n",
              "      \n",
              "  <style>\n",
              "    .colab-df-container {\n",
              "      display:flex;\n",
              "      flex-wrap:wrap;\n",
              "      gap: 12px;\n",
              "    }\n",
              "\n",
              "    .colab-df-convert {\n",
              "      background-color: #E8F0FE;\n",
              "      border: none;\n",
              "      border-radius: 50%;\n",
              "      cursor: pointer;\n",
              "      display: none;\n",
              "      fill: #1967D2;\n",
              "      height: 32px;\n",
              "      padding: 0 0 0 0;\n",
              "      width: 32px;\n",
              "    }\n",
              "\n",
              "    .colab-df-convert:hover {\n",
              "      background-color: #E2EBFA;\n",
              "      box-shadow: 0px 1px 2px rgba(60, 64, 67, 0.3), 0px 1px 3px 1px rgba(60, 64, 67, 0.15);\n",
              "      fill: #174EA6;\n",
              "    }\n",
              "\n",
              "    [theme=dark] .colab-df-convert {\n",
              "      background-color: #3B4455;\n",
              "      fill: #D2E3FC;\n",
              "    }\n",
              "\n",
              "    [theme=dark] .colab-df-convert:hover {\n",
              "      background-color: #434B5C;\n",
              "      box-shadow: 0px 1px 3px 1px rgba(0, 0, 0, 0.15);\n",
              "      filter: drop-shadow(0px 1px 2px rgba(0, 0, 0, 0.3));\n",
              "      fill: #FFFFFF;\n",
              "    }\n",
              "  </style>\n",
              "\n",
              "      <script>\n",
              "        const buttonEl =\n",
              "          document.querySelector('#df-5388c341-b0af-41b9-a6ac-13a4b39845a1 button.colab-df-convert');\n",
              "        buttonEl.style.display =\n",
              "          google.colab.kernel.accessAllowed ? 'block' : 'none';\n",
              "\n",
              "        async function convertToInteractive(key) {\n",
              "          const element = document.querySelector('#df-5388c341-b0af-41b9-a6ac-13a4b39845a1');\n",
              "          const dataTable =\n",
              "            await google.colab.kernel.invokeFunction('convertToInteractive',\n",
              "                                                     [key], {});\n",
              "          if (!dataTable) return;\n",
              "\n",
              "          const docLinkHtml = 'Like what you see? Visit the ' +\n",
              "            '<a target=\"_blank\" href=https://colab.research.google.com/notebooks/data_table.ipynb>data table notebook</a>'\n",
              "            + ' to learn more about interactive tables.';\n",
              "          element.innerHTML = '';\n",
              "          dataTable['output_type'] = 'display_data';\n",
              "          await google.colab.output.renderOutput(dataTable, element);\n",
              "          const docLink = document.createElement('div');\n",
              "          docLink.innerHTML = docLinkHtml;\n",
              "          element.appendChild(docLink);\n",
              "        }\n",
              "      </script>\n",
              "    </div>\n",
              "  </div>\n",
              "  "
            ]
          },
          "metadata": {},
          "execution_count": 8
        }
      ]
    },
    {
      "cell_type": "code",
      "source": [
        "# Remove the rows which don't have ADR\n",
        "# training_data = training[training.begin.notnull()]\n",
        "# validation_data = validation[validation.begin.notnull()]\n",
        "\n",
        "# Drop duplicate rows, only keep first\n",
        "training.drop_duplicates(subset=[\"extraction\", \"tweet\"], inplace=True, keep='first')\n",
        "print(f\"Shape after removing duplicates Training data: {training.shape}\")\n",
        "\n",
        "# Reset Index\n",
        "training.reset_index(inplace=True, drop=True)"
      ],
      "metadata": {
        "colab": {
          "base_uri": "https://localhost:8080/"
        },
        "id": "7F1FzciKaXwN",
        "outputId": "058598d8-bd05-452e-a0bc-43f58bf2a8c9"
      },
      "execution_count": null,
      "outputs": [
        {
          "output_type": "stream",
          "name": "stdout",
          "text": [
            "Shape after removing duplicates Training data: (2172, 9)\n"
          ]
        }
      ]
    },
    {
      "cell_type": "code",
      "source": [
        "# Pre-processing\n",
        "# Referred from: https://github.com/cbaziotis/ekphrasis\n",
        "\n",
        "text_processor = TextPreProcessor(\n",
        "    # terms that will be normalized\n",
        "    normalize=['url', 'email', 'percent', 'money', 'phone', 'user',\n",
        "        'time', 'url', 'date', 'number'],\n",
        "    \n",
        "    # terms that will be annotated\n",
        "    annotate={\"hashtag\", \"allcaps\", \"elongated\", \"repeated\",\n",
        "        'emphasis', 'censored'},\n",
        "    fix_html=True,  # fix HTML tokens\n",
        "    \n",
        "    # corpus from which the word statistics are going to be used \n",
        "    # for word segmentation \n",
        "    segmenter=\"twitter\", \n",
        "    \n",
        "    # corpus from which the word statistics are going to be used \n",
        "    # for spell correction\n",
        "    corrector=\"twitter\", \n",
        "    \n",
        "    unpack_hashtags=True,  # perform word segmentation on hashtags\n",
        "    unpack_contractions=True,  # Unpack contractions (can't -> can not)\n",
        "    spell_correct_elong=False,  # spell correction for elongated words\n",
        "    \n",
        "    # select a tokenizer. You can use SocialTokenizer, or pass your own\n",
        "    # the tokenizer, should take as input a string and return a list of tokens\n",
        "    tokenizer=SocialTokenizer(lowercase=True).tokenize,\n",
        "    \n",
        "    # list of dictionaries, for replacing tokens extracted from the text,\n",
        "    # with other expressions. You can pass more than one dictionaries.\n",
        "    dicts=[emoticons]\n",
        ")"
      ],
      "metadata": {
        "colab": {
          "base_uri": "https://localhost:8080/"
        },
        "id": "n5iyAhOqa5S5",
        "outputId": "5bf64b38-ecf5-4dfe-c93b-a02f4275c7f9"
      },
      "execution_count": null,
      "outputs": [
        {
          "output_type": "stream",
          "name": "stdout",
          "text": [
            "Word statistics files not found!\n",
            "Downloading... done!\n",
            "Unpacking... done!\n",
            "Reading twitter - 1grams ...\n",
            "generating cache file for faster loading...\n",
            "reading ngrams /root/.ekphrasis/stats/twitter/counts_1grams.txt\n",
            "Reading twitter - 2grams ...\n",
            "generating cache file for faster loading...\n",
            "reading ngrams /root/.ekphrasis/stats/twitter/counts_2grams.txt\n",
            "Reading twitter - 1grams ...\n"
          ]
        }
      ]
    },
    {
      "cell_type": "code",
      "source": [
        "# Process the tweets\n",
        "training['clean_tweets'] = [\" \".join(text_processor.pre_process_doc(tweet)) for tweet in training.tweet]\n",
        "validation['clean_tweets'] = [\" \".join(text_processor.pre_process_doc(tweet)) for tweet in validation.tweet]"
      ],
      "metadata": {
        "id": "Fb9ZZsj5eAhL"
      },
      "execution_count": null,
      "outputs": []
    },
    {
      "cell_type": "code",
      "source": [
        "# Create the label class\n",
        "training['label'] = [1 if begin else 0 for begin in training.begin.notnull()]\n",
        "validation['label'] = [1 if begin else 0 for begin in validation.begin.notnull()]"
      ],
      "metadata": {
        "id": "SYBiAYyEeJok"
      },
      "execution_count": null,
      "outputs": []
    },
    {
      "cell_type": "code",
      "source": [
        "# After pre-processing\n",
        "training[['clean_tweets', 'label', 'extraction']].head()"
      ],
      "metadata": {
        "colab": {
          "base_uri": "https://localhost:8080/",
          "height": 206
        },
        "id": "XVvfllGzefro",
        "outputId": "c3c96d8d-1cb1-4004-9ad0-cd231745ab80"
      },
      "execution_count": null,
      "outputs": [
        {
          "output_type": "execute_result",
          "data": {
            "text/plain": [
              "                                                                                                                                                    clean_tweets  \\\n",
              "0                     <user> : oral drugs for pyelonephritis : ciprofloxacin levofloxacin tmp / smz do not use nitrofurantoin for pyelo ( only cystitis ) <user>   \n",
              "1  happy for wellbutrin ; has similar effects as adderall . <repeated> trazodone is super promising for sleep . <repeated> but abilify can cause weight gain -_-   \n",
              "2             <user> i am ok ty have an official diagnosis of bipolar now , feeling ok at the moment lamotrigine has been increased having monotherapy <annoyed>   \n",
              "3                                                                                                                i am soo depressed cymbalta could not help me .   \n",
              "4                           time for my daily afternoon relaxation ritual of smoking weed , taking <number> mgs of clonazepam , and <number> mg of seroquel xr .   \n",
              "\n",
              "   label extraction  \n",
              "0      0        NaN  \n",
              "1      0        NaN  \n",
              "2      0        NaN  \n",
              "3      0        NaN  \n",
              "4      0        NaN  "
            ],
            "text/html": [
              "\n",
              "  <div id=\"df-bce38983-cfcf-46dd-a099-da307ae6a6a7\">\n",
              "    <div class=\"colab-df-container\">\n",
              "      <div>\n",
              "<style scoped>\n",
              "    .dataframe tbody tr th:only-of-type {\n",
              "        vertical-align: middle;\n",
              "    }\n",
              "\n",
              "    .dataframe tbody tr th {\n",
              "        vertical-align: top;\n",
              "    }\n",
              "\n",
              "    .dataframe thead th {\n",
              "        text-align: right;\n",
              "    }\n",
              "</style>\n",
              "<table border=\"1\" class=\"dataframe\">\n",
              "  <thead>\n",
              "    <tr style=\"text-align: right;\">\n",
              "      <th></th>\n",
              "      <th>clean_tweets</th>\n",
              "      <th>label</th>\n",
              "      <th>extraction</th>\n",
              "    </tr>\n",
              "  </thead>\n",
              "  <tbody>\n",
              "    <tr>\n",
              "      <th>0</th>\n",
              "      <td>&lt;user&gt; : oral drugs for pyelonephritis : ciprofloxacin levofloxacin tmp / smz do not use nitrofurantoin for pyelo ( only cystitis ) &lt;user&gt;</td>\n",
              "      <td>0</td>\n",
              "      <td>NaN</td>\n",
              "    </tr>\n",
              "    <tr>\n",
              "      <th>1</th>\n",
              "      <td>happy for wellbutrin ; has similar effects as adderall . &lt;repeated&gt; trazodone is super promising for sleep . &lt;repeated&gt; but abilify can cause weight gain -_-</td>\n",
              "      <td>0</td>\n",
              "      <td>NaN</td>\n",
              "    </tr>\n",
              "    <tr>\n",
              "      <th>2</th>\n",
              "      <td>&lt;user&gt; i am ok ty have an official diagnosis of bipolar now , feeling ok at the moment lamotrigine has been increased having monotherapy &lt;annoyed&gt;</td>\n",
              "      <td>0</td>\n",
              "      <td>NaN</td>\n",
              "    </tr>\n",
              "    <tr>\n",
              "      <th>3</th>\n",
              "      <td>i am soo depressed cymbalta could not help me .</td>\n",
              "      <td>0</td>\n",
              "      <td>NaN</td>\n",
              "    </tr>\n",
              "    <tr>\n",
              "      <th>4</th>\n",
              "      <td>time for my daily afternoon relaxation ritual of smoking weed , taking &lt;number&gt; mgs of clonazepam , and &lt;number&gt; mg of seroquel xr .</td>\n",
              "      <td>0</td>\n",
              "      <td>NaN</td>\n",
              "    </tr>\n",
              "  </tbody>\n",
              "</table>\n",
              "</div>\n",
              "      <button class=\"colab-df-convert\" onclick=\"convertToInteractive('df-bce38983-cfcf-46dd-a099-da307ae6a6a7')\"\n",
              "              title=\"Convert this dataframe to an interactive table.\"\n",
              "              style=\"display:none;\">\n",
              "        \n",
              "  <svg xmlns=\"http://www.w3.org/2000/svg\" height=\"24px\"viewBox=\"0 0 24 24\"\n",
              "       width=\"24px\">\n",
              "    <path d=\"M0 0h24v24H0V0z\" fill=\"none\"/>\n",
              "    <path d=\"M18.56 5.44l.94 2.06.94-2.06 2.06-.94-2.06-.94-.94-2.06-.94 2.06-2.06.94zm-11 1L8.5 8.5l.94-2.06 2.06-.94-2.06-.94L8.5 2.5l-.94 2.06-2.06.94zm10 10l.94 2.06.94-2.06 2.06-.94-2.06-.94-.94-2.06-.94 2.06-2.06.94z\"/><path d=\"M17.41 7.96l-1.37-1.37c-.4-.4-.92-.59-1.43-.59-.52 0-1.04.2-1.43.59L10.3 9.45l-7.72 7.72c-.78.78-.78 2.05 0 2.83L4 21.41c.39.39.9.59 1.41.59.51 0 1.02-.2 1.41-.59l7.78-7.78 2.81-2.81c.8-.78.8-2.07 0-2.86zM5.41 20L4 18.59l7.72-7.72 1.47 1.35L5.41 20z\"/>\n",
              "  </svg>\n",
              "      </button>\n",
              "      \n",
              "  <style>\n",
              "    .colab-df-container {\n",
              "      display:flex;\n",
              "      flex-wrap:wrap;\n",
              "      gap: 12px;\n",
              "    }\n",
              "\n",
              "    .colab-df-convert {\n",
              "      background-color: #E8F0FE;\n",
              "      border: none;\n",
              "      border-radius: 50%;\n",
              "      cursor: pointer;\n",
              "      display: none;\n",
              "      fill: #1967D2;\n",
              "      height: 32px;\n",
              "      padding: 0 0 0 0;\n",
              "      width: 32px;\n",
              "    }\n",
              "\n",
              "    .colab-df-convert:hover {\n",
              "      background-color: #E2EBFA;\n",
              "      box-shadow: 0px 1px 2px rgba(60, 64, 67, 0.3), 0px 1px 3px 1px rgba(60, 64, 67, 0.15);\n",
              "      fill: #174EA6;\n",
              "    }\n",
              "\n",
              "    [theme=dark] .colab-df-convert {\n",
              "      background-color: #3B4455;\n",
              "      fill: #D2E3FC;\n",
              "    }\n",
              "\n",
              "    [theme=dark] .colab-df-convert:hover {\n",
              "      background-color: #434B5C;\n",
              "      box-shadow: 0px 1px 3px 1px rgba(0, 0, 0, 0.15);\n",
              "      filter: drop-shadow(0px 1px 2px rgba(0, 0, 0, 0.3));\n",
              "      fill: #FFFFFF;\n",
              "    }\n",
              "  </style>\n",
              "\n",
              "      <script>\n",
              "        const buttonEl =\n",
              "          document.querySelector('#df-bce38983-cfcf-46dd-a099-da307ae6a6a7 button.colab-df-convert');\n",
              "        buttonEl.style.display =\n",
              "          google.colab.kernel.accessAllowed ? 'block' : 'none';\n",
              "\n",
              "        async function convertToInteractive(key) {\n",
              "          const element = document.querySelector('#df-bce38983-cfcf-46dd-a099-da307ae6a6a7');\n",
              "          const dataTable =\n",
              "            await google.colab.kernel.invokeFunction('convertToInteractive',\n",
              "                                                     [key], {});\n",
              "          if (!dataTable) return;\n",
              "\n",
              "          const docLinkHtml = 'Like what you see? Visit the ' +\n",
              "            '<a target=\"_blank\" href=https://colab.research.google.com/notebooks/data_table.ipynb>data table notebook</a>'\n",
              "            + ' to learn more about interactive tables.';\n",
              "          element.innerHTML = '';\n",
              "          dataTable['output_type'] = 'display_data';\n",
              "          await google.colab.output.renderOutput(dataTable, element);\n",
              "          const docLink = document.createElement('div');\n",
              "          docLink.innerHTML = docLinkHtml;\n",
              "          element.appendChild(docLink);\n",
              "        }\n",
              "      </script>\n",
              "    </div>\n",
              "  </div>\n",
              "  "
            ]
          },
          "metadata": {},
          "execution_count": 13
        }
      ]
    },
    {
      "cell_type": "code",
      "source": [
        "validation[['clean_tweets', 'label', 'extraction']].head()"
      ],
      "metadata": {
        "colab": {
          "base_uri": "https://localhost:8080/",
          "height": 206
        },
        "id": "a7imYP2EeyEj",
        "outputId": "167df24a-fe62-4f97-a2e2-71a3fb68931a"
      },
      "execution_count": null,
      "outputs": [
        {
          "output_type": "execute_result",
          "data": {
            "text/plain": [
              "                                                                                                                                                                    clean_tweets  \\\n",
              "0  do you have any medication allergies ? \" asthma ! <repeated> \" me : \" . <repeated> \" pt : \" no wait . avelox , that ' s it ! \" \" so no other allergies ? \" \" right ! \" * cont   \n",
              "1                   <user> if <hashtag> a velox </hashtag> has hurt your liver , avoid tylenol always , as it further damages liver , eat grapefruit unless taking cardiac drugs   \n",
              "2                                                apparently , baclofen greatly exacerbates the \" ad \" part of my adhd . average length of focus today : about <number> seconds .   \n",
              "3                                                apparently , baclofen greatly exacerbates the \" ad \" part of my adhd . average length of focus today : about <number> seconds .   \n",
              "4                                            pt of mine died from cipro rt <user> : <user> if only more doctors thought like you ! i lost my entire life to <number> cipro pills   \n",
              "\n",
              "   label       extraction  \n",
              "0      1        allergies  \n",
              "1      1  HURT YOUR Liver  \n",
              "2      1               AD  \n",
              "3      1            focus  \n",
              "4      1             died  "
            ],
            "text/html": [
              "\n",
              "  <div id=\"df-4185b371-f0cf-48fe-98cf-c082c16eb652\">\n",
              "    <div class=\"colab-df-container\">\n",
              "      <div>\n",
              "<style scoped>\n",
              "    .dataframe tbody tr th:only-of-type {\n",
              "        vertical-align: middle;\n",
              "    }\n",
              "\n",
              "    .dataframe tbody tr th {\n",
              "        vertical-align: top;\n",
              "    }\n",
              "\n",
              "    .dataframe thead th {\n",
              "        text-align: right;\n",
              "    }\n",
              "</style>\n",
              "<table border=\"1\" class=\"dataframe\">\n",
              "  <thead>\n",
              "    <tr style=\"text-align: right;\">\n",
              "      <th></th>\n",
              "      <th>clean_tweets</th>\n",
              "      <th>label</th>\n",
              "      <th>extraction</th>\n",
              "    </tr>\n",
              "  </thead>\n",
              "  <tbody>\n",
              "    <tr>\n",
              "      <th>0</th>\n",
              "      <td>do you have any medication allergies ? \" asthma ! &lt;repeated&gt; \" me : \" . &lt;repeated&gt; \" pt : \" no wait . avelox , that ' s it ! \" \" so no other allergies ? \" \" right ! \" * cont</td>\n",
              "      <td>1</td>\n",
              "      <td>allergies</td>\n",
              "    </tr>\n",
              "    <tr>\n",
              "      <th>1</th>\n",
              "      <td>&lt;user&gt; if &lt;hashtag&gt; a velox &lt;/hashtag&gt; has hurt your liver , avoid tylenol always , as it further damages liver , eat grapefruit unless taking cardiac drugs</td>\n",
              "      <td>1</td>\n",
              "      <td>HURT YOUR Liver</td>\n",
              "    </tr>\n",
              "    <tr>\n",
              "      <th>2</th>\n",
              "      <td>apparently , baclofen greatly exacerbates the \" ad \" part of my adhd . average length of focus today : about &lt;number&gt; seconds .</td>\n",
              "      <td>1</td>\n",
              "      <td>AD</td>\n",
              "    </tr>\n",
              "    <tr>\n",
              "      <th>3</th>\n",
              "      <td>apparently , baclofen greatly exacerbates the \" ad \" part of my adhd . average length of focus today : about &lt;number&gt; seconds .</td>\n",
              "      <td>1</td>\n",
              "      <td>focus</td>\n",
              "    </tr>\n",
              "    <tr>\n",
              "      <th>4</th>\n",
              "      <td>pt of mine died from cipro rt &lt;user&gt; : &lt;user&gt; if only more doctors thought like you ! i lost my entire life to &lt;number&gt; cipro pills</td>\n",
              "      <td>1</td>\n",
              "      <td>died</td>\n",
              "    </tr>\n",
              "  </tbody>\n",
              "</table>\n",
              "</div>\n",
              "      <button class=\"colab-df-convert\" onclick=\"convertToInteractive('df-4185b371-f0cf-48fe-98cf-c082c16eb652')\"\n",
              "              title=\"Convert this dataframe to an interactive table.\"\n",
              "              style=\"display:none;\">\n",
              "        \n",
              "  <svg xmlns=\"http://www.w3.org/2000/svg\" height=\"24px\"viewBox=\"0 0 24 24\"\n",
              "       width=\"24px\">\n",
              "    <path d=\"M0 0h24v24H0V0z\" fill=\"none\"/>\n",
              "    <path d=\"M18.56 5.44l.94 2.06.94-2.06 2.06-.94-2.06-.94-.94-2.06-.94 2.06-2.06.94zm-11 1L8.5 8.5l.94-2.06 2.06-.94-2.06-.94L8.5 2.5l-.94 2.06-2.06.94zm10 10l.94 2.06.94-2.06 2.06-.94-2.06-.94-.94-2.06-.94 2.06-2.06.94z\"/><path d=\"M17.41 7.96l-1.37-1.37c-.4-.4-.92-.59-1.43-.59-.52 0-1.04.2-1.43.59L10.3 9.45l-7.72 7.72c-.78.78-.78 2.05 0 2.83L4 21.41c.39.39.9.59 1.41.59.51 0 1.02-.2 1.41-.59l7.78-7.78 2.81-2.81c.8-.78.8-2.07 0-2.86zM5.41 20L4 18.59l7.72-7.72 1.47 1.35L5.41 20z\"/>\n",
              "  </svg>\n",
              "      </button>\n",
              "      \n",
              "  <style>\n",
              "    .colab-df-container {\n",
              "      display:flex;\n",
              "      flex-wrap:wrap;\n",
              "      gap: 12px;\n",
              "    }\n",
              "\n",
              "    .colab-df-convert {\n",
              "      background-color: #E8F0FE;\n",
              "      border: none;\n",
              "      border-radius: 50%;\n",
              "      cursor: pointer;\n",
              "      display: none;\n",
              "      fill: #1967D2;\n",
              "      height: 32px;\n",
              "      padding: 0 0 0 0;\n",
              "      width: 32px;\n",
              "    }\n",
              "\n",
              "    .colab-df-convert:hover {\n",
              "      background-color: #E2EBFA;\n",
              "      box-shadow: 0px 1px 2px rgba(60, 64, 67, 0.3), 0px 1px 3px 1px rgba(60, 64, 67, 0.15);\n",
              "      fill: #174EA6;\n",
              "    }\n",
              "\n",
              "    [theme=dark] .colab-df-convert {\n",
              "      background-color: #3B4455;\n",
              "      fill: #D2E3FC;\n",
              "    }\n",
              "\n",
              "    [theme=dark] .colab-df-convert:hover {\n",
              "      background-color: #434B5C;\n",
              "      box-shadow: 0px 1px 3px 1px rgba(0, 0, 0, 0.15);\n",
              "      filter: drop-shadow(0px 1px 2px rgba(0, 0, 0, 0.3));\n",
              "      fill: #FFFFFF;\n",
              "    }\n",
              "  </style>\n",
              "\n",
              "      <script>\n",
              "        const buttonEl =\n",
              "          document.querySelector('#df-4185b371-f0cf-48fe-98cf-c082c16eb652 button.colab-df-convert');\n",
              "        buttonEl.style.display =\n",
              "          google.colab.kernel.accessAllowed ? 'block' : 'none';\n",
              "\n",
              "        async function convertToInteractive(key) {\n",
              "          const element = document.querySelector('#df-4185b371-f0cf-48fe-98cf-c082c16eb652');\n",
              "          const dataTable =\n",
              "            await google.colab.kernel.invokeFunction('convertToInteractive',\n",
              "                                                     [key], {});\n",
              "          if (!dataTable) return;\n",
              "\n",
              "          const docLinkHtml = 'Like what you see? Visit the ' +\n",
              "            '<a target=\"_blank\" href=https://colab.research.google.com/notebooks/data_table.ipynb>data table notebook</a>'\n",
              "            + ' to learn more about interactive tables.';\n",
              "          element.innerHTML = '';\n",
              "          dataTable['output_type'] = 'display_data';\n",
              "          await google.colab.output.renderOutput(dataTable, element);\n",
              "          const docLink = document.createElement('div');\n",
              "          docLink.innerHTML = docLinkHtml;\n",
              "          element.appendChild(docLink);\n",
              "        }\n",
              "      </script>\n",
              "    </div>\n",
              "  </div>\n",
              "  "
            ]
          },
          "metadata": {},
          "execution_count": 14
        }
      ]
    },
    {
      "cell_type": "markdown",
      "source": [
        "### Prepare tweets for RoBERTa"
      ],
      "metadata": {
        "id": "8fwQttX0e-QD"
      }
    },
    {
      "cell_type": "code",
      "source": [
        "BATCH_SIZE = 32\n",
        "N_EPOCHS = 5\n",
        "MAX_LENGTH = 128\n",
        "LEARNING_RATE = 2e-5"
      ],
      "metadata": {
        "id": "21sPeTW2fZl9"
      },
      "execution_count": null,
      "outputs": []
    },
    {
      "cell_type": "code",
      "source": [
        "# Define tokenizer\n",
        "tokenizer = RobertaTokenizerFast.from_pretrained(\"roberta-base\")"
      ],
      "metadata": {
        "colab": {
          "base_uri": "https://localhost:8080/",
          "height": 145,
          "referenced_widgets": [
            "745fdc8a62064925b98adcf4978850ea",
            "02490947f3904694a04c8fdb7113a044",
            "9cc630fef4664e85b43801519567caf6",
            "5f2644f11a11479d9f731b280c5f7c9e",
            "319a03236f5d407b824b603bb4b453ac",
            "367e4cd5e8c1476ea04e51656c2c6672",
            "bfcb6d23473a4b50b2a3540310895b92",
            "1c6baba2d9864defba5b579d58ff4bb2",
            "02c1e5a35d6f431dbc9b40dd36b30713",
            "43538b46c5cf401cb37ed01a0e4a1ba1",
            "e2174e4b53814a409cc2ab5d9b33904b",
            "f7a7684eda43462ca99bef63a4c4e9db",
            "ccd01d82cf404eb5aed4912a434537c7",
            "1766cc27fa4946f0ab218e62818f3325",
            "f051cd87ff0248b88491099f99a37a70",
            "07b242f85f0a47a7a2c1b6d5276f20b1",
            "8ea9548996f444a08e782043209519c3",
            "107a1724b71c4447ab701b83d78e9c54",
            "2bc398ee3ee444e6b79fbf49f28c5eaf",
            "57b74bdf32204e60a6705fde5f44be73",
            "d9e590d7d0e04f60a4805352f412f7e7",
            "ebf02d9db3ea443cad830dfb111a228d",
            "e2e82c36b19d4fc5ad687d562d2aa4d0",
            "9ee7f3b22a4f48da930f0bf996dfaf67",
            "a089f7430027464ea6e63ca2ac4a19fd",
            "d8fb64ea678c4b83a3b4bbcd49cb77a3",
            "6765b88a53094461977b4c2497bbd7ed",
            "8a18a7dc04574a55ac30121d71e014e9",
            "2ecf484f7b9c43e59a9bb9185dd59af0",
            "cbe9435475084d748dc76a13074d5e3d",
            "818eec71cc224e498340a055d01edf1e",
            "bc59d2b4c5464229b17d88e441d3aa93",
            "2d71f7b110224d8fbdf0599c56c865b3",
            "3d836ec2158543058d8d69a310614ff5",
            "d5109865e18f43bcabfba3df04847083",
            "2a51b2a093c744d998c2be7c69f7820a",
            "ad9fd6b121e34f51842080213a033db4",
            "782a5a0c86cc4c44a5d5299f44c94457",
            "d0637fba837749e7aea0b061a9d3c475",
            "5e6cf0d2774d477d9cf2ec77985adb11",
            "621b486c73b8467e8fd5a01c155e91d4",
            "db4d106a890941f1ad12934680d06d63",
            "013c167fbb064091bf2c8d3ef2f2aa80",
            "b9e1a049c6c549eca65b3540c3cb5320"
          ]
        },
        "id": "KCfhnW7_fdu0",
        "outputId": "61836074-d52a-4897-90a9-3183f18dea5c"
      },
      "execution_count": null,
      "outputs": [
        {
          "output_type": "display_data",
          "data": {
            "text/plain": [
              "Downloading:   0%|          | 0.00/878k [00:00<?, ?B/s]"
            ],
            "application/vnd.jupyter.widget-view+json": {
              "version_major": 2,
              "version_minor": 0,
              "model_id": "745fdc8a62064925b98adcf4978850ea"
            }
          },
          "metadata": {}
        },
        {
          "output_type": "display_data",
          "data": {
            "text/plain": [
              "Downloading:   0%|          | 0.00/446k [00:00<?, ?B/s]"
            ],
            "application/vnd.jupyter.widget-view+json": {
              "version_major": 2,
              "version_minor": 0,
              "model_id": "f7a7684eda43462ca99bef63a4c4e9db"
            }
          },
          "metadata": {}
        },
        {
          "output_type": "display_data",
          "data": {
            "text/plain": [
              "Downloading:   0%|          | 0.00/1.29M [00:00<?, ?B/s]"
            ],
            "application/vnd.jupyter.widget-view+json": {
              "version_major": 2,
              "version_minor": 0,
              "model_id": "e2e82c36b19d4fc5ad687d562d2aa4d0"
            }
          },
          "metadata": {}
        },
        {
          "output_type": "display_data",
          "data": {
            "text/plain": [
              "Downloading:   0%|          | 0.00/481 [00:00<?, ?B/s]"
            ],
            "application/vnd.jupyter.widget-view+json": {
              "version_major": 2,
              "version_minor": 0,
              "model_id": "3d836ec2158543058d8d69a310614ff5"
            }
          },
          "metadata": {}
        }
      ]
    },
    {
      "cell_type": "code",
      "source": [
        "# Tokenize train and validation data\n",
        "training_enc = tokenizer.batch_encode_plus(training.clean_tweets.to_list(), padding=\"longest\", truncation=True, max_length=MAX_LENGTH, return_tensors=\"pt\")\n",
        "validation_enc = tokenizer.batch_encode_plus(validation.clean_tweets.to_list(), padding=\"longest\", truncation=True, max_length=MAX_LENGTH, return_tensors=\"pt\")"
      ],
      "metadata": {
        "id": "yVIsz-vlfjHz"
      },
      "execution_count": null,
      "outputs": []
    },
    {
      "cell_type": "code",
      "source": [
        "training_enc.keys()"
      ],
      "metadata": {
        "colab": {
          "base_uri": "https://localhost:8080/"
        },
        "id": "evrCVAjVf5UJ",
        "outputId": "1b10a651-8500-4e94-fee9-8270ad58fe81"
      },
      "execution_count": null,
      "outputs": [
        {
          "output_type": "execute_result",
          "data": {
            "text/plain": [
              "dict_keys(['input_ids', 'attention_mask'])"
            ]
          },
          "metadata": {},
          "execution_count": 114
        }
      ]
    },
    {
      "cell_type": "code",
      "source": [
        "# Define dataloader\n",
        "def get_dataloader(encoding, target, set='train'):\n",
        "    if set == 'train':\n",
        "        data = (TensorDataset(encoding.input_ids, encoding.attention_mask, target, torch.tensor(training.index.values.tolist())))\n",
        "    else:\n",
        "        data = (TensorDataset(encoding.input_ids, encoding.attention_mask, target, torch.tensor(validation.index.values.tolist())))\n",
        "    sampler = RandomSampler(data)\n",
        "    dataloader = DataLoader(data, sampler=sampler, batch_size=BATCH_SIZE)\n",
        "    return dataloader"
      ],
      "metadata": {
        "id": "oWSNXvhhf75q"
      },
      "execution_count": null,
      "outputs": []
    },
    {
      "cell_type": "code",
      "source": [
        "# Get train and validation dataloaders\n",
        "training_dataloader = get_dataloader(training_enc, torch.tensor(training.label.to_list()), 'train')\n",
        "validation_dataloader = get_dataloader(validation_enc, torch.tensor(validation.label.to_list()), 'valid')"
      ],
      "metadata": {
        "id": "bplFHYZTgXvS"
      },
      "execution_count": null,
      "outputs": []
    },
    {
      "cell_type": "code",
      "source": [
        "# Sanity check that the tensors returned by the dataloader are correct\n",
        "for batch in training_dataloader:\n",
        "    input_ids, attn_mask, target, index = batch\n",
        "    print(input_ids.shape, attn_mask.shape, target.shape, index.shape)\n",
        "    break"
      ],
      "metadata": {
        "colab": {
          "base_uri": "https://localhost:8080/"
        },
        "id": "azsIBhJ0gmXS",
        "outputId": "4e06b042-abb5-4f9c-c64c-55be5654b704"
      },
      "execution_count": null,
      "outputs": [
        {
          "output_type": "stream",
          "name": "stdout",
          "text": [
            "torch.Size([32, 124]) torch.Size([32, 124]) torch.Size([32]) torch.Size([32])\n"
          ]
        }
      ]
    },
    {
      "cell_type": "markdown",
      "source": [
        "## 5. Model Building"
      ],
      "metadata": {
        "id": "4hMvD7PzgqEw"
      }
    },
    {
      "cell_type": "code",
      "source": [
        "device = 'cuda' if torch.cuda.is_available() else 'cpu'\n",
        "device"
      ],
      "metadata": {
        "colab": {
          "base_uri": "https://localhost:8080/",
          "height": 36
        },
        "id": "RQV0dy7Jg73K",
        "outputId": "ba69305b-55d6-48a2-88a3-f14a72f5c518"
      },
      "execution_count": null,
      "outputs": [
        {
          "output_type": "execute_result",
          "data": {
            "text/plain": [
              "'cuda'"
            ],
            "application/vnd.google.colaboratory.intrinsic+json": {
              "type": "string"
            }
          },
          "metadata": {},
          "execution_count": 119
        }
      ]
    },
    {
      "cell_type": "code",
      "source": [
        "class RobertaClassifier(nn.Module):\n",
        "    def __init__(self, transformer):\n",
        "        super(RobertaClassifier, self).__init__()\n",
        "        self.transformer = transformer\n",
        "        self.linear_layer = nn.Linear(768, 2)\n",
        "\n",
        "    def forward(self, ip_ids, attn_mask):\n",
        "        op = self.transformer(input_ids=ip_ids,\n",
        "                              attention_mask=attn_mask)\n",
        "        return self.linear_layer(op[\"pooler_output\"])"
      ],
      "metadata": {
        "id": "Oydfs2aFhAME"
      },
      "execution_count": null,
      "outputs": []
    },
    {
      "cell_type": "code",
      "source": [
        "def count_parameter(model):\n",
        "    return sum(para.numel() for para in model.parameters() if para.requires_grad)"
      ],
      "metadata": {
        "id": "jeHcLEHwhrJO"
      },
      "execution_count": null,
      "outputs": []
    },
    {
      "cell_type": "code",
      "source": [
        "transformer = RobertaModel.from_pretrained('roberta-base')\n",
        "model = RobertaClassifier(transformer).to(device)"
      ],
      "metadata": {
        "id": "c1lf3IwVh1km"
      },
      "execution_count": null,
      "outputs": []
    },
    {
      "cell_type": "code",
      "source": [
        "print(f\"The model has {count_parameter(model):,} trainable parameters.\")"
      ],
      "metadata": {
        "colab": {
          "base_uri": "https://localhost:8080/"
        },
        "id": "OwWE1lC8h-cm",
        "outputId": "0e816886-26fc-4202-bed1-d4aaf699bf34"
      },
      "execution_count": null,
      "outputs": [
        {
          "output_type": "stream",
          "name": "stdout",
          "text": [
            "The model has 124,647,170 trainable parameters.\n"
          ]
        }
      ]
    },
    {
      "cell_type": "code",
      "source": [
        "# Define optimizer \n",
        "criterion = torch.nn.CrossEntropyLoss()\n",
        "optim = torch.optim.AdamW(model.parameters(), lr=LEARNING_RATE)"
      ],
      "metadata": {
        "id": "Z8zfIsqih_jd"
      },
      "execution_count": null,
      "outputs": []
    },
    {
      "cell_type": "code",
      "source": [
        "# Define the train and validation functions\n",
        "\n",
        "def train(model, dataloader, clip=1.0):\n",
        "    model.train()\n",
        "\n",
        "    epoch_loss = 0\n",
        "    batch_num = 0\n",
        "    y_pred, y_true = [], []\n",
        "\n",
        "    for index, batch in tqdm(enumerate(dataloader)):\n",
        "        batch = tuple(row.to(device) for row in batch)\n",
        "        input_ids, attn_mask, target, indexes = batch\n",
        "\n",
        "        optim.zero_grad()\n",
        "        output = model(input_ids, attn_mask)\n",
        "        loss = criterion(output, target)\n",
        "        loss.backward()\n",
        "\n",
        "        nn.utils.clip_grad_norm_(model.parameters(), clip)\n",
        "        optim.step()\n",
        "\n",
        "        epoch_loss += loss.item()\n",
        "        batch_num += 1\n",
        "        y_pred.extend(torch.argmax(output, -1).tolist())\n",
        "        y_true.extend(target.tolist())\n",
        "\n",
        "    return epoch_loss/batch_num, f1_score(y_true, y_pred)\n",
        "\n",
        "def evaluate(model, dataloader):\n",
        "    model.eval()\n",
        "\n",
        "    epoch_loss = 0\n",
        "    batch_num = 0\n",
        "    y_pred, y_true = [], []\n",
        "\n",
        "    for index, batch in enumerate(dataloader):\n",
        "        batch = tuple(row.to(device) for row in batch)\n",
        "        input_ids, attn_mask, target, indexes = batch\n",
        "        \n",
        "        with torch.no_grad():\n",
        "            output = model(input_ids, attn_mask)\n",
        "            loss = criterion(output, target)\n",
        "            \n",
        "            epoch_loss += loss.item()\n",
        "            batch_num += 1\n",
        "            y_pred.extend(torch.argmax(output, -1).tolist())\n",
        "            y_true.extend(target.tolist())\n",
        "    \n",
        "    return epoch_loss/batch_num, f1_score(y_true, y_pred), y_pred, y_true"
      ],
      "metadata": {
        "id": "TEeZxXJ1iCmR"
      },
      "execution_count": null,
      "outputs": []
    },
    {
      "cell_type": "code",
      "source": [
        "best_valid_loss = float('inf')\n",
        "total_train_loss, total_valid_loss = list(), list()"
      ],
      "metadata": {
        "id": "YbjGLPuujvJd"
      },
      "execution_count": null,
      "outputs": []
    },
    {
      "cell_type": "code",
      "source": [
        "for epoch in tqdm(range(N_EPOCHS)):\n",
        "    train_loss, train_f1_score = train(model, training_dataloader)\n",
        "    total_train_loss.append(train_loss)\n",
        "\n",
        "    valid_loss, valid_f1_score, pred, target = evaluate(model, validation_dataloader)\n",
        "    total_valid_loss.append(valid_loss)\n",
        "\n",
        "    if valid_loss < best_valid_loss:\n",
        "        best_valid_loss_rob = valid_loss\n",
        "        best_pred, best_target = pred, target\n",
        "        torch.save(model.state_dict(), \"model_least_loss_rob.pt\")\n",
        "        print(\"\\nBest Model Saved!!\\n\")\n",
        "    \n",
        "    torch.save(model.state_dict(), \"model_checkpoint_rob\" + str(epoch+1) + \".pt\")\n",
        "    print(\"Checkpoint Model Saved!\\n\")\n",
        "\n",
        "    print(f\"Epoch: {epoch+1:02}\")\n",
        "    print(f\"Train Total Loss: {train_loss:.3f} | Train F1 Score: {train_f1_score:.3f}\")\n",
        "    print(f\"Valid Total Loss: {valid_loss:.3f} | Valid F1 Score: {valid_f1_score:.3f}\")\n",
        "    print(\"-\"*20)"
      ],
      "metadata": {
        "colab": {
          "base_uri": "https://localhost:8080/"
        },
        "id": "XOsEnfCjjzDb",
        "outputId": "0d8f720e-366f-4c76-c6ad-7dc6e07fda4e"
      },
      "execution_count": null,
      "outputs": [
        {
          "output_type": "stream",
          "name": "stderr",
          "text": [
            "  0%|          | 0/5 [00:00<?, ?it/s]\n",
            "0it [00:00, ?it/s]\u001b[A\n",
            "1it [00:01,  1.36s/it]\u001b[A\n",
            "2it [00:02,  1.28s/it]\u001b[A\n",
            "3it [00:03,  1.25s/it]\u001b[A\n",
            "4it [00:05,  1.23s/it]\u001b[A\n",
            "5it [00:06,  1.22s/it]\u001b[A\n",
            "6it [00:07,  1.22s/it]\u001b[A\n",
            "7it [00:08,  1.21s/it]\u001b[A\n",
            "8it [00:09,  1.20s/it]\u001b[A\n",
            "9it [00:11,  1.21s/it]\u001b[A\n",
            "10it [00:12,  1.20s/it]\u001b[A\n",
            "11it [00:13,  1.20s/it]\u001b[A\n",
            "12it [00:14,  1.20s/it]\u001b[A\n",
            "13it [00:15,  1.20s/it]\u001b[A\n",
            "14it [00:17,  1.20s/it]\u001b[A\n",
            "15it [00:18,  1.20s/it]\u001b[A\n",
            "16it [00:19,  1.20s/it]\u001b[A\n",
            "17it [00:20,  1.20s/it]\u001b[A\n",
            "18it [00:21,  1.20s/it]\u001b[A\n",
            "19it [00:23,  1.21s/it]\u001b[A\n",
            "20it [00:24,  1.21s/it]\u001b[A\n",
            "21it [00:25,  1.20s/it]\u001b[A\n",
            "22it [00:26,  1.20s/it]\u001b[A\n",
            "23it [00:27,  1.21s/it]\u001b[A\n",
            "24it [00:29,  1.21s/it]\u001b[A\n",
            "25it [00:30,  1.20s/it]\u001b[A\n",
            "26it [00:31,  1.20s/it]\u001b[A\n",
            "27it [00:32,  1.20s/it]\u001b[A\n",
            "28it [00:33,  1.20s/it]\u001b[A\n",
            "29it [00:35,  1.20s/it]\u001b[A\n",
            "30it [00:36,  1.21s/it]\u001b[A\n",
            "31it [00:37,  1.21s/it]\u001b[A\n",
            "32it [00:38,  1.20s/it]\u001b[A\n",
            "33it [00:39,  1.21s/it]\u001b[A\n",
            "34it [00:41,  1.21s/it]\u001b[A\n",
            "35it [00:42,  1.21s/it]\u001b[A\n",
            "36it [00:43,  1.21s/it]\u001b[A\n",
            "37it [00:44,  1.21s/it]\u001b[A\n",
            "38it [00:45,  1.21s/it]\u001b[A\n",
            "39it [00:47,  1.21s/it]\u001b[A\n",
            "40it [00:48,  1.21s/it]\u001b[A\n",
            "41it [00:49,  1.21s/it]\u001b[A\n",
            "42it [00:50,  1.21s/it]\u001b[A\n",
            "43it [00:52,  1.21s/it]\u001b[A\n",
            "44it [00:53,  1.22s/it]\u001b[A\n",
            "45it [00:54,  1.22s/it]\u001b[A\n",
            "46it [00:55,  1.22s/it]\u001b[A\n",
            "47it [00:56,  1.22s/it]\u001b[A\n",
            "48it [00:58,  1.21s/it]\u001b[A\n",
            "49it [00:59,  1.22s/it]\u001b[A\n",
            "50it [01:00,  1.22s/it]\u001b[A\n",
            "51it [01:01,  1.22s/it]\u001b[A\n",
            "52it [01:02,  1.21s/it]\u001b[A\n",
            "53it [01:04,  1.21s/it]\u001b[A\n",
            "54it [01:05,  1.22s/it]\u001b[A\n",
            "55it [01:06,  1.22s/it]\u001b[A\n",
            "56it [01:07,  1.21s/it]\u001b[A\n",
            "57it [01:09,  1.21s/it]\u001b[A\n",
            "58it [01:10,  1.21s/it]\u001b[A\n",
            "59it [01:11,  1.22s/it]\u001b[A\n",
            "60it [01:12,  1.22s/it]\u001b[A\n",
            "61it [01:13,  1.21s/it]\u001b[A\n",
            "62it [01:15,  1.21s/it]\u001b[A\n",
            "63it [01:16,  1.22s/it]\u001b[A\n",
            "64it [01:17,  1.21s/it]\u001b[A\n",
            "65it [01:18,  1.21s/it]\u001b[A\n",
            "66it [01:19,  1.21s/it]\u001b[A\n",
            "67it [01:21,  1.21s/it]\u001b[A\n",
            "68it [01:22,  1.21s/it]\n"
          ]
        },
        {
          "output_type": "stream",
          "name": "stdout",
          "text": [
            "\n",
            "Best Model Saved!!\n",
            "\n"
          ]
        },
        {
          "output_type": "stream",
          "name": "stderr",
          "text": [
            "\r 20%|██        | 1/5 [01:31<06:05, 91.26s/it]"
          ]
        },
        {
          "output_type": "stream",
          "name": "stdout",
          "text": [
            "Checkpoint Model Saved!\n",
            "\n",
            "Epoch: 01\n",
            "Train Total Loss: 0.106 | Train F1 Score: 0.975\n",
            "Valid Total Loss: 0.767 | Valid F1 Score: 0.899\n",
            "--------------------\n"
          ]
        },
        {
          "output_type": "stream",
          "name": "stderr",
          "text": [
            "\n",
            "0it [00:00, ?it/s]\u001b[A\n",
            "1it [00:01,  1.34s/it]\u001b[A\n",
            "2it [00:02,  1.29s/it]\u001b[A\n",
            "3it [00:03,  1.25s/it]\u001b[A\n",
            "4it [00:05,  1.24s/it]\u001b[A\n",
            "5it [00:06,  1.26s/it]\u001b[A\n",
            "6it [00:07,  1.25s/it]\u001b[A\n",
            "7it [00:08,  1.24s/it]\u001b[A\n",
            "8it [00:09,  1.23s/it]\u001b[A\n",
            "9it [00:11,  1.22s/it]\u001b[A\n",
            "10it [00:12,  1.22s/it]\u001b[A\n",
            "11it [00:13,  1.22s/it]\u001b[A\n",
            "12it [00:14,  1.22s/it]\u001b[A\n",
            "13it [00:16,  1.21s/it]\u001b[A\n",
            "14it [00:17,  1.21s/it]\u001b[A\n",
            "15it [00:18,  1.22s/it]\u001b[A\n",
            "16it [00:19,  1.22s/it]\u001b[A\n",
            "17it [00:20,  1.22s/it]\u001b[A\n",
            "18it [00:22,  1.22s/it]\u001b[A\n",
            "19it [00:23,  1.21s/it]\u001b[A\n",
            "20it [00:24,  1.21s/it]\u001b[A\n",
            "21it [00:25,  1.21s/it]\u001b[A\n",
            "22it [00:26,  1.22s/it]\u001b[A\n",
            "23it [00:28,  1.21s/it]\u001b[A\n",
            "24it [00:29,  1.21s/it]\u001b[A\n",
            "25it [00:30,  1.21s/it]\u001b[A\n",
            "26it [00:31,  1.21s/it]\u001b[A\n",
            "27it [00:33,  1.22s/it]\u001b[A\n",
            "28it [00:34,  1.21s/it]\u001b[A\n",
            "29it [00:35,  1.21s/it]\u001b[A\n",
            "30it [00:36,  1.21s/it]\u001b[A\n",
            "31it [00:37,  1.21s/it]\u001b[A\n",
            "32it [00:39,  1.21s/it]\u001b[A\n",
            "33it [00:40,  1.22s/it]\u001b[A\n",
            "34it [00:41,  1.22s/it]\u001b[A\n",
            "35it [00:42,  1.22s/it]\u001b[A\n",
            "36it [00:43,  1.22s/it]\u001b[A\n",
            "37it [00:45,  1.22s/it]\u001b[A\n",
            "38it [00:46,  1.22s/it]\u001b[A\n",
            "39it [00:47,  1.21s/it]\u001b[A\n",
            "40it [00:48,  1.21s/it]\u001b[A\n",
            "41it [00:50,  1.21s/it]\u001b[A\n",
            "42it [00:51,  1.21s/it]\u001b[A\n",
            "43it [00:52,  1.21s/it]\u001b[A\n",
            "44it [00:53,  1.21s/it]\u001b[A\n",
            "45it [00:54,  1.21s/it]\u001b[A\n",
            "46it [00:56,  1.21s/it]\u001b[A\n",
            "47it [00:57,  1.21s/it]\u001b[A\n",
            "48it [00:58,  1.21s/it]\u001b[A\n",
            "49it [00:59,  1.21s/it]\u001b[A\n",
            "50it [01:00,  1.21s/it]\u001b[A\n",
            "51it [01:02,  1.22s/it]\u001b[A\n",
            "52it [01:03,  1.22s/it]\u001b[A\n",
            "53it [01:04,  1.22s/it]\u001b[A\n",
            "54it [01:05,  1.22s/it]\u001b[A\n",
            "55it [01:07,  1.22s/it]\u001b[A\n",
            "56it [01:08,  1.22s/it]\u001b[A\n",
            "57it [01:09,  1.21s/it]\u001b[A\n",
            "58it [01:10,  1.22s/it]\u001b[A\n",
            "59it [01:11,  1.21s/it]\u001b[A\n",
            "60it [01:13,  1.21s/it]\u001b[A\n",
            "61it [01:14,  1.22s/it]\u001b[A\n",
            "62it [01:15,  1.22s/it]\u001b[A\n",
            "63it [01:16,  1.22s/it]\u001b[A\n",
            "64it [01:17,  1.22s/it]\u001b[A\n",
            "65it [01:19,  1.21s/it]\u001b[A\n",
            "66it [01:20,  1.22s/it]\u001b[A\n",
            "67it [01:21,  1.22s/it]\u001b[A\n",
            "68it [01:22,  1.22s/it]\n"
          ]
        },
        {
          "output_type": "stream",
          "name": "stdout",
          "text": [
            "\n",
            "Best Model Saved!!\n",
            "\n"
          ]
        },
        {
          "output_type": "stream",
          "name": "stderr",
          "text": [
            "\r 40%|████      | 2/5 [03:02<04:34, 91.42s/it]"
          ]
        },
        {
          "output_type": "stream",
          "name": "stdout",
          "text": [
            "Checkpoint Model Saved!\n",
            "\n",
            "Epoch: 02\n",
            "Train Total Loss: 0.080 | Train F1 Score: 0.985\n",
            "Valid Total Loss: 0.773 | Valid F1 Score: 0.902\n",
            "--------------------\n"
          ]
        },
        {
          "output_type": "stream",
          "name": "stderr",
          "text": [
            "\n",
            "0it [00:00, ?it/s]\u001b[A\n",
            "1it [00:01,  1.35s/it]\u001b[A\n",
            "2it [00:02,  1.30s/it]\u001b[A\n",
            "3it [00:03,  1.26s/it]\u001b[A\n",
            "4it [00:05,  1.24s/it]\u001b[A\n",
            "5it [00:06,  1.23s/it]\u001b[A\n",
            "6it [00:07,  1.22s/it]\u001b[A\n",
            "7it [00:08,  1.22s/it]\u001b[A\n",
            "8it [00:09,  1.22s/it]\u001b[A\n",
            "9it [00:11,  1.22s/it]\u001b[A\n",
            "10it [00:12,  1.21s/it]\u001b[A\n",
            "11it [00:13,  1.22s/it]\u001b[A\n",
            "12it [00:14,  1.22s/it]\u001b[A\n",
            "13it [00:15,  1.21s/it]\u001b[A\n",
            "14it [00:17,  1.21s/it]\u001b[A\n",
            "15it [00:18,  1.21s/it]\u001b[A\n",
            "16it [00:19,  1.22s/it]\u001b[A\n",
            "17it [00:20,  1.22s/it]\u001b[A\n",
            "18it [00:22,  1.22s/it]\u001b[A\n",
            "19it [00:23,  1.21s/it]\u001b[A\n",
            "20it [00:24,  1.21s/it]\u001b[A\n",
            "21it [00:25,  1.22s/it]\u001b[A\n",
            "22it [00:26,  1.21s/it]\u001b[A\n",
            "23it [00:28,  1.21s/it]\u001b[A\n",
            "24it [00:29,  1.21s/it]\u001b[A\n",
            "25it [00:30,  1.21s/it]\u001b[A\n",
            "26it [00:31,  1.21s/it]\u001b[A\n",
            "27it [00:32,  1.22s/it]\u001b[A\n",
            "28it [00:34,  1.22s/it]\u001b[A\n",
            "29it [00:35,  1.22s/it]\u001b[A\n",
            "30it [00:36,  1.22s/it]\u001b[A\n",
            "31it [00:37,  1.22s/it]\u001b[A\n",
            "32it [00:39,  1.22s/it]\u001b[A\n",
            "33it [00:40,  1.22s/it]\u001b[A\n",
            "34it [00:41,  1.21s/it]\u001b[A\n",
            "35it [00:42,  1.22s/it]\u001b[A\n",
            "36it [00:43,  1.22s/it]\u001b[A\n",
            "37it [00:45,  1.21s/it]\u001b[A\n",
            "38it [00:46,  1.21s/it]\u001b[A\n",
            "39it [00:47,  1.21s/it]\u001b[A\n",
            "40it [00:48,  1.21s/it]\u001b[A\n",
            "41it [00:49,  1.21s/it]\u001b[A\n",
            "42it [00:51,  1.22s/it]\u001b[A\n",
            "43it [00:52,  1.22s/it]\u001b[A\n",
            "44it [00:53,  1.22s/it]\u001b[A\n",
            "45it [00:54,  1.22s/it]\u001b[A\n",
            "46it [00:56,  1.22s/it]\u001b[A\n",
            "47it [00:57,  1.21s/it]\u001b[A\n",
            "48it [00:58,  1.21s/it]\u001b[A\n",
            "49it [00:59,  1.21s/it]\u001b[A\n",
            "50it [01:00,  1.21s/it]\u001b[A\n",
            "51it [01:02,  1.21s/it]\u001b[A\n",
            "52it [01:03,  1.21s/it]\u001b[A\n",
            "53it [01:04,  1.21s/it]\u001b[A\n",
            "54it [01:05,  1.21s/it]\u001b[A\n",
            "55it [01:06,  1.21s/it]\u001b[A\n",
            "56it [01:08,  1.21s/it]\u001b[A\n",
            "57it [01:09,  1.22s/it]\u001b[A\n",
            "58it [01:10,  1.22s/it]\u001b[A\n",
            "59it [01:11,  1.22s/it]\u001b[A\n",
            "60it [01:13,  1.21s/it]\u001b[A\n",
            "61it [01:14,  1.21s/it]\u001b[A\n",
            "62it [01:15,  1.21s/it]\u001b[A\n",
            "63it [01:16,  1.22s/it]\u001b[A\n",
            "64it [01:17,  1.22s/it]\u001b[A\n",
            "65it [01:19,  1.22s/it]\u001b[A\n",
            "66it [01:20,  1.22s/it]\u001b[A\n",
            "67it [01:21,  1.21s/it]\u001b[A\n",
            "68it [01:22,  1.22s/it]\n"
          ]
        },
        {
          "output_type": "stream",
          "name": "stdout",
          "text": [
            "\n",
            "Best Model Saved!!\n",
            "\n"
          ]
        },
        {
          "output_type": "stream",
          "name": "stderr",
          "text": [
            "\r 60%|██████    | 3/5 [04:34<03:03, 91.52s/it]"
          ]
        },
        {
          "output_type": "stream",
          "name": "stdout",
          "text": [
            "Checkpoint Model Saved!\n",
            "\n",
            "Epoch: 03\n",
            "Train Total Loss: 0.056 | Train F1 Score: 0.989\n",
            "Valid Total Loss: 0.702 | Valid F1 Score: 0.898\n",
            "--------------------\n"
          ]
        },
        {
          "output_type": "stream",
          "name": "stderr",
          "text": [
            "\n",
            "0it [00:00, ?it/s]\u001b[A\n",
            "1it [00:01,  1.33s/it]\u001b[A\n",
            "2it [00:02,  1.28s/it]\u001b[A\n",
            "3it [00:03,  1.25s/it]\u001b[A\n",
            "4it [00:05,  1.24s/it]\u001b[A\n",
            "5it [00:06,  1.22s/it]\u001b[A\n",
            "6it [00:07,  1.22s/it]\u001b[A\n",
            "7it [00:08,  1.22s/it]\u001b[A\n",
            "8it [00:09,  1.22s/it]\u001b[A\n",
            "9it [00:11,  1.21s/it]\u001b[A\n",
            "10it [00:12,  1.21s/it]\u001b[A\n",
            "11it [00:13,  1.21s/it]\u001b[A\n",
            "12it [00:14,  1.21s/it]\u001b[A\n",
            "13it [00:15,  1.21s/it]\u001b[A\n",
            "14it [00:17,  1.22s/it]\u001b[A\n",
            "15it [00:18,  1.22s/it]\u001b[A\n",
            "16it [00:19,  1.22s/it]\u001b[A\n",
            "17it [00:20,  1.22s/it]\u001b[A\n",
            "18it [00:21,  1.22s/it]\u001b[A\n",
            "19it [00:23,  1.22s/it]\u001b[A\n",
            "20it [00:24,  1.21s/it]\u001b[A\n",
            "21it [00:25,  1.22s/it]\u001b[A\n",
            "22it [00:26,  1.22s/it]\u001b[A\n",
            "23it [00:28,  1.21s/it]\u001b[A\n",
            "24it [00:29,  1.21s/it]\u001b[A\n",
            "25it [00:30,  1.21s/it]\u001b[A\n",
            "26it [00:31,  1.21s/it]\u001b[A\n",
            "27it [00:32,  1.21s/it]\u001b[A\n",
            "28it [00:34,  1.21s/it]\u001b[A\n",
            "29it [00:35,  1.21s/it]\u001b[A\n",
            "30it [00:36,  1.21s/it]\u001b[A\n",
            "31it [00:37,  1.22s/it]\u001b[A\n",
            "32it [00:39,  1.22s/it]\u001b[A\n",
            "33it [00:40,  1.22s/it]\u001b[A\n",
            "34it [00:41,  1.22s/it]\u001b[A\n",
            "35it [00:42,  1.21s/it]\u001b[A\n",
            "36it [00:43,  1.21s/it]\u001b[A\n",
            "37it [00:45,  1.21s/it]\u001b[A\n",
            "38it [00:46,  1.21s/it]\u001b[A\n",
            "39it [00:47,  1.21s/it]\u001b[A\n",
            "40it [00:48,  1.21s/it]\u001b[A\n",
            "41it [00:49,  1.22s/it]\u001b[A\n",
            "42it [00:51,  1.22s/it]\u001b[A\n",
            "43it [00:52,  1.22s/it]\u001b[A\n",
            "44it [00:53,  1.22s/it]\u001b[A\n",
            "45it [00:54,  1.22s/it]\u001b[A\n",
            "46it [00:56,  1.22s/it]\u001b[A\n",
            "47it [00:57,  1.21s/it]\u001b[A\n",
            "48it [00:58,  1.21s/it]\u001b[A\n",
            "49it [00:59,  1.22s/it]\u001b[A\n",
            "50it [01:00,  1.22s/it]\u001b[A\n",
            "51it [01:02,  1.22s/it]\u001b[A\n",
            "52it [01:03,  1.22s/it]\u001b[A\n",
            "53it [01:04,  1.21s/it]\u001b[A\n",
            "54it [01:05,  1.21s/it]\u001b[A\n",
            "55it [01:06,  1.21s/it]\u001b[A\n",
            "56it [01:08,  1.21s/it]\u001b[A\n",
            "57it [01:09,  1.21s/it]\u001b[A\n",
            "58it [01:10,  1.21s/it]\u001b[A\n",
            "59it [01:11,  1.21s/it]\u001b[A\n",
            "60it [01:12,  1.21s/it]\u001b[A\n",
            "61it [01:14,  1.21s/it]\u001b[A\n",
            "62it [01:15,  1.21s/it]\u001b[A\n",
            "63it [01:16,  1.22s/it]\u001b[A\n",
            "64it [01:17,  1.22s/it]\u001b[A\n",
            "65it [01:19,  1.21s/it]\u001b[A\n",
            "66it [01:20,  1.21s/it]\u001b[A\n",
            "67it [01:21,  1.21s/it]\u001b[A\n",
            "68it [01:22,  1.21s/it]\n"
          ]
        },
        {
          "output_type": "stream",
          "name": "stdout",
          "text": [
            "\n",
            "Best Model Saved!!\n",
            "\n"
          ]
        },
        {
          "output_type": "stream",
          "name": "stderr",
          "text": [
            "\r 80%|████████  | 4/5 [06:06<01:31, 91.54s/it]"
          ]
        },
        {
          "output_type": "stream",
          "name": "stdout",
          "text": [
            "Checkpoint Model Saved!\n",
            "\n",
            "Epoch: 04\n",
            "Train Total Loss: 0.026 | Train F1 Score: 0.995\n",
            "Valid Total Loss: 0.862 | Valid F1 Score: 0.909\n",
            "--------------------\n"
          ]
        },
        {
          "output_type": "stream",
          "name": "stderr",
          "text": [
            "\n",
            "0it [00:00, ?it/s]\u001b[A\n",
            "1it [00:01,  1.33s/it]\u001b[A\n",
            "2it [00:02,  1.28s/it]\u001b[A\n",
            "3it [00:03,  1.25s/it]\u001b[A\n",
            "4it [00:04,  1.23s/it]\u001b[A\n",
            "5it [00:06,  1.22s/it]\u001b[A\n",
            "6it [00:07,  1.22s/it]\u001b[A\n",
            "7it [00:08,  1.22s/it]\u001b[A\n",
            "8it [00:09,  1.22s/it]\u001b[A\n",
            "9it [00:11,  1.22s/it]\u001b[A\n",
            "10it [00:12,  1.22s/it]\u001b[A\n",
            "11it [00:13,  1.21s/it]\u001b[A\n",
            "12it [00:14,  1.21s/it]\u001b[A\n",
            "13it [00:15,  1.21s/it]\u001b[A\n",
            "14it [00:17,  1.21s/it]\u001b[A\n",
            "15it [00:18,  1.22s/it]\u001b[A\n",
            "16it [00:19,  1.21s/it]\u001b[A\n",
            "17it [00:20,  1.21s/it]\u001b[A\n",
            "18it [00:21,  1.21s/it]\u001b[A\n",
            "19it [00:23,  1.21s/it]\u001b[A\n",
            "20it [00:24,  1.22s/it]\u001b[A\n",
            "21it [00:25,  1.21s/it]\u001b[A\n",
            "22it [00:26,  1.22s/it]\u001b[A\n",
            "23it [00:28,  1.22s/it]\u001b[A\n",
            "24it [00:29,  1.22s/it]\u001b[A\n",
            "25it [00:30,  1.23s/it]\u001b[A\n",
            "26it [00:31,  1.23s/it]\u001b[A\n",
            "27it [00:33,  1.23s/it]\u001b[A\n",
            "28it [00:34,  1.23s/it]\u001b[A\n",
            "29it [00:35,  1.22s/it]\u001b[A\n",
            "30it [00:36,  1.22s/it]\u001b[A\n",
            "31it [00:37,  1.22s/it]\u001b[A\n",
            "32it [00:39,  1.22s/it]\u001b[A\n",
            "33it [00:40,  1.22s/it]\u001b[A\n",
            "34it [00:41,  1.22s/it]\u001b[A\n",
            "35it [00:42,  1.22s/it]\u001b[A\n",
            "36it [00:43,  1.21s/it]\u001b[A\n",
            "37it [00:45,  1.21s/it]\u001b[A\n",
            "38it [00:46,  1.21s/it]\u001b[A\n",
            "39it [00:47,  1.21s/it]\u001b[A\n",
            "40it [00:48,  1.21s/it]\u001b[A\n",
            "41it [00:50,  1.21s/it]\u001b[A\n",
            "42it [00:51,  1.21s/it]\u001b[A\n",
            "43it [00:52,  1.21s/it]\u001b[A\n",
            "44it [00:53,  1.21s/it]\u001b[A\n",
            "45it [00:54,  1.21s/it]\u001b[A\n",
            "46it [00:56,  1.21s/it]\u001b[A\n",
            "47it [00:57,  1.21s/it]\u001b[A\n",
            "48it [00:58,  1.21s/it]\u001b[A\n",
            "49it [00:59,  1.21s/it]\u001b[A\n",
            "50it [01:00,  1.21s/it]\u001b[A\n",
            "51it [01:02,  1.21s/it]\u001b[A\n",
            "52it [01:03,  1.21s/it]\u001b[A\n",
            "53it [01:04,  1.21s/it]\u001b[A\n",
            "54it [01:05,  1.22s/it]\u001b[A\n",
            "55it [01:06,  1.21s/it]\u001b[A\n",
            "56it [01:08,  1.22s/it]\u001b[A\n",
            "57it [01:09,  1.22s/it]\u001b[A\n",
            "58it [01:10,  1.22s/it]\u001b[A\n",
            "59it [01:11,  1.21s/it]\u001b[A\n",
            "60it [01:13,  1.21s/it]\u001b[A\n",
            "61it [01:14,  1.21s/it]\u001b[A\n",
            "62it [01:15,  1.21s/it]\u001b[A\n",
            "63it [01:16,  1.21s/it]\u001b[A\n",
            "64it [01:17,  1.21s/it]\u001b[A\n",
            "65it [01:19,  1.21s/it]\u001b[A\n",
            "66it [01:20,  1.21s/it]\u001b[A\n",
            "67it [01:21,  1.22s/it]\u001b[A\n",
            "68it [01:22,  1.22s/it]\n"
          ]
        },
        {
          "output_type": "stream",
          "name": "stdout",
          "text": [
            "\n",
            "Best Model Saved!!\n",
            "\n"
          ]
        },
        {
          "output_type": "stream",
          "name": "stderr",
          "text": [
            "100%|██████████| 5/5 [07:37<00:00, 91.53s/it]"
          ]
        },
        {
          "output_type": "stream",
          "name": "stdout",
          "text": [
            "Checkpoint Model Saved!\n",
            "\n",
            "Epoch: 05\n",
            "Train Total Loss: 0.028 | Train F1 Score: 0.996\n",
            "Valid Total Loss: 0.918 | Valid F1 Score: 0.905\n",
            "--------------------\n"
          ]
        },
        {
          "output_type": "stream",
          "name": "stderr",
          "text": [
            "\n"
          ]
        }
      ]
    },
    {
      "cell_type": "code",
      "source": [
        "print(classification_report(best_target, best_pred))"
      ],
      "metadata": {
        "colab": {
          "base_uri": "https://localhost:8080/"
        },
        "id": "3OqSQ2UBkB0u",
        "outputId": "06ef8b24-fe65-4166-80f0-d752de93ed7a"
      },
      "execution_count": null,
      "outputs": [
        {
          "output_type": "stream",
          "name": "stdout",
          "text": [
            "              precision    recall  f1-score   support\n",
            "\n",
            "           0       0.86      0.75      0.80       195\n",
            "           1       0.87      0.94      0.90       365\n",
            "\n",
            "    accuracy                           0.87       560\n",
            "   macro avg       0.87      0.84      0.85       560\n",
            "weighted avg       0.87      0.87      0.87       560\n",
            "\n"
          ]
        }
      ]
    },
    {
      "cell_type": "code",
      "source": [
        "from google.colab import drive\n",
        "drive.mount('/content/gdrive')"
      ],
      "metadata": {
        "colab": {
          "base_uri": "https://localhost:8080/"
        },
        "id": "zzpzkNO6q5kP",
        "outputId": "56778ee7-f7b1-4ef9-fca7-dd2533b8d97c"
      },
      "execution_count": null,
      "outputs": [
        {
          "output_type": "stream",
          "name": "stdout",
          "text": [
            "Mounted at /content/gdrive\n"
          ]
        }
      ]
    },
    {
      "cell_type": "code",
      "source": [
        "# Save the weights to drive\n",
        "from glob import glob\n",
        "import time\n",
        "for filepath in glob(\"*.pt\"):\n",
        "    !cp -r $filepath /content/gdrive/My\\ Drive/Colab\\ Notebooks/NLP\\ Final\\ Project/\n",
        "    time.sleep(10)"
      ],
      "metadata": {
        "id": "xl5p-eBcqsC5"
      },
      "execution_count": null,
      "outputs": []
    },
    {
      "cell_type": "code",
      "source": [
        ""
      ],
      "metadata": {
        "id": "XgQhD_xFq03l"
      },
      "execution_count": null,
      "outputs": []
    },
    {
      "cell_type": "code",
      "source": [
        "# Loading the saved model\n",
        "output_model = 'model_least_loss_rob.pt'\n",
        "\n",
        "model_test = RobertaClassifier(transformer).to(device)\n",
        "model_test.load_state_dict(torch.load(output_model, map_location=device))"
      ],
      "metadata": {
        "colab": {
          "base_uri": "https://localhost:8080/"
        },
        "id": "g11cAgrisrOz",
        "outputId": "7f6e1662-6ae6-4484-8205-c734760ba133"
      },
      "execution_count": null,
      "outputs": [
        {
          "output_type": "execute_result",
          "data": {
            "text/plain": [
              "<All keys matched successfully>"
            ]
          },
          "metadata": {},
          "execution_count": 129
        }
      ]
    },
    {
      "cell_type": "code",
      "source": [
        "# Training set\n",
        "\n",
        "# Set model to evaluation\n",
        "model_test.eval()\n",
        "\n",
        "y_pred_train, y_true_train = [], []\n",
        "train_indexes_list = []\n",
        "\n",
        "for index, batch in enumerate(training_dataloader):\n",
        "    batch = tuple(row.to(device) for row in batch)\n",
        "    input_ids, attn_mask, target, indexes = batch\n",
        "    \n",
        "    with torch.no_grad():\n",
        "        output = model_test(input_ids, attn_mask)\n",
        "        \n",
        "        y_pred_train.extend(torch.argmax(output, -1).tolist())\n",
        "        y_true_train.extend(target.tolist())\n",
        "        train_indexes_list.extend(indexes.tolist())"
      ],
      "metadata": {
        "id": "RH--IXF1vmjS"
      },
      "execution_count": null,
      "outputs": []
    },
    {
      "cell_type": "code",
      "source": [
        "print(f\"F1-score: {f1_score(y_true_train, y_pred_train)}\\n\", f\"Classification report: \\n{classification_report(y_true_train, y_pred_train)}\", sep='\\n')"
      ],
      "metadata": {
        "colab": {
          "base_uri": "https://localhost:8080/"
        },
        "id": "cdMp0eFivpfD",
        "outputId": "6faebc38-5ff1-418d-f6f7-fe3528f45bfa"
      },
      "execution_count": null,
      "outputs": [
        {
          "output_type": "stream",
          "name": "stdout",
          "text": [
            "F1-score: 0.9996512033484479\n",
            "\n",
            "Classification report: \n",
            "              precision    recall  f1-score   support\n",
            "\n",
            "           0       1.00      1.00      1.00       739\n",
            "           1       1.00      1.00      1.00      1433\n",
            "\n",
            "    accuracy                           1.00      2172\n",
            "   macro avg       1.00      1.00      1.00      2172\n",
            "weighted avg       1.00      1.00      1.00      2172\n",
            "\n"
          ]
        }
      ]
    },
    {
      "cell_type": "code",
      "source": [
        "# Validation set\n",
        "y_pred_valid, y_true_valid = [], []\n",
        "valid_indexes_list = []\n",
        "\n",
        "for index, batch in enumerate(validation_dataloader):\n",
        "    batch = tuple(row.to(device) for row in batch)\n",
        "    input_ids, attn_mask, target, indexes = batch\n",
        "    \n",
        "    with torch.no_grad():\n",
        "        output = model_test(input_ids, attn_mask)\n",
        "        \n",
        "        y_pred_valid.extend(torch.argmax(output, -1).tolist())\n",
        "        y_true_valid.extend(target.tolist())\n",
        "        valid_indexes_list.extend(indexes.tolist())"
      ],
      "metadata": {
        "id": "ofR2jDANvShL"
      },
      "execution_count": null,
      "outputs": []
    },
    {
      "cell_type": "code",
      "source": [
        "print(f\"F1-score: {f1_score(y_true_valid, y_pred_valid)}\\n\", f\"Classification report: \\n{classification_report(y_true_valid, y_pred_valid)}\", sep='\\n')"
      ],
      "metadata": {
        "colab": {
          "base_uri": "https://localhost:8080/"
        },
        "id": "1dIILzQOu-Ww",
        "outputId": "e96ccb73-3910-4fea-e5aa-cf30ff2d4a3f"
      },
      "execution_count": null,
      "outputs": [
        {
          "output_type": "stream",
          "name": "stdout",
          "text": [
            "F1-score: 0.9047619047619047\n",
            "\n",
            "Classification report: \n",
            "              precision    recall  f1-score   support\n",
            "\n",
            "           0       0.86      0.75      0.80       195\n",
            "           1       0.87      0.94      0.90       365\n",
            "\n",
            "    accuracy                           0.87       560\n",
            "   macro avg       0.87      0.84      0.85       560\n",
            "weighted avg       0.87      0.87      0.87       560\n",
            "\n"
          ]
        }
      ]
    },
    {
      "cell_type": "code",
      "source": [
        "training.loc[train_indexes_list, 'ADR'] = y_pred_train\n",
        "validation.loc[valid_indexes_list, 'ADR'] = y_pred_valid"
      ],
      "metadata": {
        "id": "vI8r2TkUu_sp"
      },
      "execution_count": null,
      "outputs": []
    },
    {
      "cell_type": "code",
      "source": [
        "training.to_csv(\"training_data_with_ADR.csv\")\n",
        "validation.to_csv(\"validation_data_with_ADR.csv\")"
      ],
      "metadata": {
        "id": "O1bNPk0IvD50"
      },
      "execution_count": null,
      "outputs": []
    },
    {
      "cell_type": "code",
      "source": [
        "# Cross-check that it is correctly mapped\n",
        "print(f\"F1-score: {f1_score(training.label, training.ADR)}\\n\", f\"Classification report: \\n{classification_report(training.label, training.ADR)}\", sep='\\n')"
      ],
      "metadata": {
        "colab": {
          "base_uri": "https://localhost:8080/"
        },
        "id": "-XjfzXDlykEk",
        "outputId": "4625946d-6a68-469f-abcf-53faa41ce556"
      },
      "execution_count": null,
      "outputs": [
        {
          "output_type": "stream",
          "name": "stdout",
          "text": [
            "F1-score: 0.9996512033484479\n",
            "\n",
            "Classification report: \n",
            "              precision    recall  f1-score   support\n",
            "\n",
            "           0       1.00      1.00      1.00       739\n",
            "           1       1.00      1.00      1.00      1433\n",
            "\n",
            "    accuracy                           1.00      2172\n",
            "   macro avg       1.00      1.00      1.00      2172\n",
            "weighted avg       1.00      1.00      1.00      2172\n",
            "\n"
          ]
        }
      ]
    },
    {
      "cell_type": "code",
      "source": [
        ""
      ],
      "metadata": {
        "id": "p8MdfdNjx7d2"
      },
      "execution_count": null,
      "outputs": []
    }
  ]
}